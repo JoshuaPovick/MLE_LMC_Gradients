{
 "cells": [
  {
   "cell_type": "code",
   "execution_count": 1,
   "metadata": {},
   "outputs": [],
   "source": [
    "##################################\n",
    "### Import the usual libraries ###\n",
    "##################################\n",
    "\n",
    "#numpy\n",
    "import numpy as np\n",
    "\n",
    "# scipy\n",
    "from scipy.stats import binned_statistic\n",
    "\n",
    "#astropy\n",
    "import astropy\n",
    "from astropy.io import fits, ascii\n",
    "from astropy.table import Table, Column, QTable\n",
    "\n",
    "#matplotlib\n",
    "import matplotlib\n",
    "import matplotlib.pyplot as plt\n",
    "%matplotlib inline\n",
    "import matplotlib.patches as mpatches\n",
    "from matplotlib.ticker import MultipleLocator, FormatStrFormatter, AutoMinorLocator\n",
    "from matplotlib.offsetbox import AnchoredText\n",
    "\n",
    "# Yumi's Code to convert (RA,DEC) to MS coordinates\n",
    "import MagellanicStream as ms\n",
    "\n",
    "# .py files for grad calc\n",
    "import astrofunctions as astro\n",
    "import lmcgeometry as lgeo\n",
    "import mlefitting as mle\n",
    "import utilities as util\n",
    "\n",
    "# Ignore warnings unless crashes\n",
    "import warnings\n",
    "warnings.filterwarnings('ignore')\n",
    "\n",
    "#progress bars\n",
    "from tqdm import tqdm_notebook"
   ]
  },
  {
   "cell_type": "code",
   "execution_count": 2,
   "metadata": {},
   "outputs": [],
   "source": [
    "# PARSEC Isochrones\n",
    "parsecall = ascii.read('/Users/joshuapovick/Desktop/Research/parsec/parsec3_3.dat', \\\n",
    "                    format='basic', delimiter='\\s')\n",
    "\n",
    "rgb = np.where(parsecall['label']==3)\n",
    "parsec = parsecall[rgb]\n",
    "\n",
    "# LMC r13 data\n",
    "lmc = fits.getdata('/Users/joshuapovick/Desktop/Research/fits/lmc_rgbmembers.r13-l33-58672.fits.gz',1)\n",
    "cln = np.where((lmc['FE_H']>-9999.0)&(lmc['AK_TARG']>-9999.0)&(lmc['LOGG']>0.0)&\n",
    "               (lmc['M_H_ERR']>-90.0)&(lmc['C_FE']>-9999.0)&(lmc['N_FE']>-9999.0))\n",
    "\n",
    "lmc = lmc[cln]"
   ]
  },
  {
   "cell_type": "code",
   "execution_count": 3,
   "metadata": {},
   "outputs": [],
   "source": [
    "### Radii LMC\n",
    "x,y,dist = lgeo.LMCdisk_cart(lmc['RA'],lmc['DEC'])\n",
    "radius = lgeo.elliptical_radius(x,y)\n",
    "     \n",
    "### All elements APOGEE measures abundances for\n",
    "elems = ['M_H','C_FE','N_FE','O_FE','NA_FE','MG_FE','AL_FE','SI_FE','P_FE','S_FE','K_FE','CA_FE','TI_FE',\n",
    "         'TIII_FE','V_FE','CR_FE','MN_FE','FE_H','CO_FE','NI_FE','CU_FE','GE_FE','RB_FE','CE_FE','ND_FE','YB_FE']\n",
    "elems_err = ['M_H_ERR','C_FE_ERR','N_FE_ERR','O_FE_ERR','NA_FE_ERR','MG_FE_ERR','AL_FE_ERR','SI_FE_ERR',\n",
    "             'P_FE_ERR','S_FE_ERR','K_FE_ERR','CA_FE_ERR','TI_FE_ERR','TIII_FE_ERR','V_FE_ERR','CR_FE_ERR',\n",
    "             'MN_FE_ERR','FE_H_ERR','CO_FE_ERR','NI_FE_ERR','CU_FE_ERR','GE_FE_ERR','RB_FE_ERR','CE_FE_ERR',\n",
    "             'ND_FE_ERR','YB_FE_ERR']\n",
    "\n",
    "labs = ['[M/H]','[C/Fe]','[N/Fe]','[O/Fe]','[Na/Fe]','[Mg/Fe]','[Al/Fe]','[Si/Fe]','[P/Fe]','[S/Fe]','[K/Fe]',\n",
    "        '[Ca/Fe','[Ti/FE]','[Ti II/Fe]','[V/Fe]','[Cr/Fe]','[Mn/Fe]','[Fe/H]','[Co/Fe]','[Ni/Fe]','[Cu/Fe]',\n",
    "        '[Ge/Fe]','[Rb/Fe]','[Ce/Fe]','[Nd/Fe]','[Yb/FE]']"
   ]
  },
  {
   "cell_type": "code",
   "execution_count": 4,
   "metadata": {},
   "outputs": [
    {
     "data": {
      "application/vnd.jupyter.widget-view+json": {
       "model_id": "2981dc37c38a4292a4409ad06fce8f2d",
       "version_major": 2,
       "version_minor": 0
      },
      "text/plain": [
       "HBox(children=(HTML(value='Done?'), FloatProgress(value=0.0, max=21.0), HTML(value='')))"
      ]
     },
     "metadata": {},
     "output_type": "display_data"
    },
    {
     "name": "stdout",
     "output_type": "stream",
     "text": [
      "\n"
     ]
    }
   ],
   "source": [
    "##############################\n",
    "### Fit Overall Trendlines ###\n",
    "##############################\n",
    "\n",
    "med_ms = []\n",
    "med_bs = []\n",
    "\n",
    "### Initial fit\n",
    "for i in tqdm_notebook(range(len(elems)-5),desc='Done?'):\n",
    "    \n",
    "    # clean up data\n",
    "    cln = np.where((lmc[elems[i]]>-100)&(lmc['SNR']>=100))\n",
    "    \n",
    "    # fit data\n",
    "    slope, inter = mle.mle_fit(radius[cln],lmc[elems[i]][cln],lmc[elems_err[i]][cln])\n",
    "    med_ms.append(slope)\n",
    "    med_bs.append(inter)"
   ]
  },
  {
   "cell_type": "code",
   "execution_count": 5,
   "metadata": {},
   "outputs": [
    {
     "name": "stdout",
     "output_type": "stream",
     "text": [
      "[M/H]: slope: -0.0415; inter: -0.5888\n",
      "[C/Fe]: slope: -0.0216; inter: -0.2741\n",
      "[N/Fe]: slope: -0.0119; inter: 0.1473\n",
      "[O/Fe]: slope: 0.0027; inter: 0.0240\n",
      "[Na/Fe]: slope: -0.0041; inter: -0.1725\n",
      "[Mg/Fe]: slope: 0.0071; inter: 0.0824\n",
      "[Al/Fe]: slope: -0.0119; inter: -0.3125\n",
      "[Si/Fe]: slope: 0.0040; inter: -0.0108\n",
      "[P/Fe]: slope: 0.0331; inter: -0.0136\n",
      "[S/Fe]: slope: 0.0167; inter: 0.1406\n",
      "[K/Fe]: slope: 0.0213; inter: -0.0600\n",
      "[Ca/Fe: slope: -0.0013; inter: 0.1054\n",
      "[Ti/FE]: slope: 0.0200; inter: -0.1331\n",
      "[Ti II/Fe]: slope: 0.0306; inter: -0.1668\n",
      "[V/Fe]: slope: -0.0036; inter: -0.1037\n",
      "[Cr/Fe]: slope: -0.0062; inter: 0.0620\n",
      "[Mn/Fe]: slope: -0.0250; inter: -0.0162\n",
      "[Fe/H]: slope: -0.0374; inter: -0.5944\n",
      "[Co/Fe]: slope: -0.0049; inter: -0.1298\n",
      "[Ni/Fe]: slope: 0.0006; inter: -0.1337\n",
      "[Cu/Fe]: slope: 0.0417; inter: 0.0038\n"
     ]
    }
   ],
   "source": [
    "for i in range(len(med_ms)):\n",
    "    print('{}: slope: {:.4f}; inter: {:.4f}'.format(labs[i],med_ms[i],med_bs[i]))"
   ]
  },
  {
   "cell_type": "code",
   "execution_count": 6,
   "metadata": {},
   "outputs": [
    {
     "data": {
      "application/vnd.jupyter.widget-view+json": {
       "model_id": "70aa7bcb1cd54b55869bac25df046d47",
       "version_major": 2,
       "version_minor": 0
      },
      "text/plain": [
       "HBox(children=(HTML(value='Done?'), FloatProgress(value=0.0, max=21.0), HTML(value='')))"
      ]
     },
     "metadata": {},
     "output_type": "display_data"
    },
    {
     "name": "stdout",
     "output_type": "stream",
     "text": [
      "\n"
     ]
    }
   ],
   "source": [
    "matplotlib.rcParams.update({'font.size': 18})\n",
    "med_elems_dist = []\n",
    "for i in tqdm_notebook(range(len(elems)-5),desc='Done?'):\n",
    "    \n",
    "    def trendline(x):\n",
    "        return med_ms[i]*x+med_bs[i]\n",
    "    \n",
    "    cln = np.where((lmc[elems[i]]>-100)&(lmc['SNR']>=100))\n",
    "    plug = trendline(radius[cln])\n",
    "    dist = plug-lmc[elems[i]][cln]\n",
    "    \n",
    "    med_elems_dist.append(dist)    \n",
    "    \n",
    "    bins = np.append(np.arange(np.floor(np.min(radius[cln])),np.ceil(np.max(radius[cln])),1.0),\n",
    "                     np.ceil(np.max(radius[cln]))+1) \n",
    "    bin_dist, _, _ = binned_statistic(radius[cln],dist,statistic='median',bins=bins)\n",
    "    bin_spr, _, _ = binned_statistic(radius[cln],dist,statistic=lambda y: np.median(np.absolute(y-np.median(y))),\n",
    "                                     bins=bins)"
   ]
  },
  {
   "cell_type": "code",
   "execution_count": 7,
   "metadata": {},
   "outputs": [
    {
     "data": {
      "application/vnd.jupyter.widget-view+json": {
       "model_id": "e4426421242b4b7ca8cc350d187dbbe9",
       "version_major": 2,
       "version_minor": 0
      },
      "text/plain": [
       "HBox(children=(HTML(value='Done?'), FloatProgress(value=0.0, max=21.0), HTML(value='')))"
      ]
     },
     "metadata": {},
     "output_type": "display_data"
    },
    {
     "data": {
      "application/vnd.jupyter.widget-view+json": {
       "model_id": "",
       "version_major": 2,
       "version_minor": 0
      },
      "text/plain": [
       "HBox(children=(HTML(value='Iteration'), FloatProgress(value=0.0, max=1000.0), HTML(value='')))"
      ]
     },
     "metadata": {},
     "output_type": "display_data"
    },
    {
     "data": {
      "application/vnd.jupyter.widget-view+json": {
       "model_id": "",
       "version_major": 2,
       "version_minor": 0
      },
      "text/plain": [
       "HBox(children=(HTML(value='Iteration'), FloatProgress(value=0.0, max=1000.0), HTML(value='')))"
      ]
     },
     "metadata": {},
     "output_type": "display_data"
    },
    {
     "data": {
      "application/vnd.jupyter.widget-view+json": {
       "model_id": "",
       "version_major": 2,
       "version_minor": 0
      },
      "text/plain": [
       "HBox(children=(HTML(value='Iteration'), FloatProgress(value=0.0, max=1000.0), HTML(value='')))"
      ]
     },
     "metadata": {},
     "output_type": "display_data"
    },
    {
     "data": {
      "application/vnd.jupyter.widget-view+json": {
       "model_id": "",
       "version_major": 2,
       "version_minor": 0
      },
      "text/plain": [
       "HBox(children=(HTML(value='Iteration'), FloatProgress(value=0.0, max=1000.0), HTML(value='')))"
      ]
     },
     "metadata": {},
     "output_type": "display_data"
    },
    {
     "data": {
      "application/vnd.jupyter.widget-view+json": {
       "model_id": "",
       "version_major": 2,
       "version_minor": 0
      },
      "text/plain": [
       "HBox(children=(HTML(value='Iteration'), FloatProgress(value=0.0, max=1000.0), HTML(value='')))"
      ]
     },
     "metadata": {},
     "output_type": "display_data"
    },
    {
     "data": {
      "application/vnd.jupyter.widget-view+json": {
       "model_id": "",
       "version_major": 2,
       "version_minor": 0
      },
      "text/plain": [
       "HBox(children=(HTML(value='Iteration'), FloatProgress(value=0.0, max=1000.0), HTML(value='')))"
      ]
     },
     "metadata": {},
     "output_type": "display_data"
    },
    {
     "data": {
      "application/vnd.jupyter.widget-view+json": {
       "model_id": "",
       "version_major": 2,
       "version_minor": 0
      },
      "text/plain": [
       "HBox(children=(HTML(value='Iteration'), FloatProgress(value=0.0, max=1000.0), HTML(value='')))"
      ]
     },
     "metadata": {},
     "output_type": "display_data"
    },
    {
     "data": {
      "application/vnd.jupyter.widget-view+json": {
       "model_id": "",
       "version_major": 2,
       "version_minor": 0
      },
      "text/plain": [
       "HBox(children=(HTML(value='Iteration'), FloatProgress(value=0.0, max=1000.0), HTML(value='')))"
      ]
     },
     "metadata": {},
     "output_type": "display_data"
    },
    {
     "data": {
      "application/vnd.jupyter.widget-view+json": {
       "model_id": "",
       "version_major": 2,
       "version_minor": 0
      },
      "text/plain": [
       "HBox(children=(HTML(value='Iteration'), FloatProgress(value=0.0, max=1000.0), HTML(value='')))"
      ]
     },
     "metadata": {},
     "output_type": "display_data"
    },
    {
     "data": {
      "application/vnd.jupyter.widget-view+json": {
       "model_id": "",
       "version_major": 2,
       "version_minor": 0
      },
      "text/plain": [
       "HBox(children=(HTML(value='Iteration'), FloatProgress(value=0.0, max=1000.0), HTML(value='')))"
      ]
     },
     "metadata": {},
     "output_type": "display_data"
    },
    {
     "data": {
      "application/vnd.jupyter.widget-view+json": {
       "model_id": "",
       "version_major": 2,
       "version_minor": 0
      },
      "text/plain": [
       "HBox(children=(HTML(value='Iteration'), FloatProgress(value=0.0, max=1000.0), HTML(value='')))"
      ]
     },
     "metadata": {},
     "output_type": "display_data"
    },
    {
     "data": {
      "application/vnd.jupyter.widget-view+json": {
       "model_id": "",
       "version_major": 2,
       "version_minor": 0
      },
      "text/plain": [
       "HBox(children=(HTML(value='Iteration'), FloatProgress(value=0.0, max=1000.0), HTML(value='')))"
      ]
     },
     "metadata": {},
     "output_type": "display_data"
    },
    {
     "data": {
      "application/vnd.jupyter.widget-view+json": {
       "model_id": "",
       "version_major": 2,
       "version_minor": 0
      },
      "text/plain": [
       "HBox(children=(HTML(value='Iteration'), FloatProgress(value=0.0, max=1000.0), HTML(value='')))"
      ]
     },
     "metadata": {},
     "output_type": "display_data"
    },
    {
     "data": {
      "application/vnd.jupyter.widget-view+json": {
       "model_id": "",
       "version_major": 2,
       "version_minor": 0
      },
      "text/plain": [
       "HBox(children=(HTML(value='Iteration'), FloatProgress(value=0.0, max=1000.0), HTML(value='')))"
      ]
     },
     "metadata": {},
     "output_type": "display_data"
    },
    {
     "data": {
      "application/vnd.jupyter.widget-view+json": {
       "model_id": "",
       "version_major": 2,
       "version_minor": 0
      },
      "text/plain": [
       "HBox(children=(HTML(value='Iteration'), FloatProgress(value=0.0, max=1000.0), HTML(value='')))"
      ]
     },
     "metadata": {},
     "output_type": "display_data"
    },
    {
     "data": {
      "application/vnd.jupyter.widget-view+json": {
       "model_id": "",
       "version_major": 2,
       "version_minor": 0
      },
      "text/plain": [
       "HBox(children=(HTML(value='Iteration'), FloatProgress(value=0.0, max=1000.0), HTML(value='')))"
      ]
     },
     "metadata": {},
     "output_type": "display_data"
    },
    {
     "data": {
      "application/vnd.jupyter.widget-view+json": {
       "model_id": "",
       "version_major": 2,
       "version_minor": 0
      },
      "text/plain": [
       "HBox(children=(HTML(value='Iteration'), FloatProgress(value=0.0, max=1000.0), HTML(value='')))"
      ]
     },
     "metadata": {},
     "output_type": "display_data"
    },
    {
     "data": {
      "application/vnd.jupyter.widget-view+json": {
       "model_id": "",
       "version_major": 2,
       "version_minor": 0
      },
      "text/plain": [
       "HBox(children=(HTML(value='Iteration'), FloatProgress(value=0.0, max=1000.0), HTML(value='')))"
      ]
     },
     "metadata": {},
     "output_type": "display_data"
    },
    {
     "data": {
      "application/vnd.jupyter.widget-view+json": {
       "model_id": "",
       "version_major": 2,
       "version_minor": 0
      },
      "text/plain": [
       "HBox(children=(HTML(value='Iteration'), FloatProgress(value=0.0, max=1000.0), HTML(value='')))"
      ]
     },
     "metadata": {},
     "output_type": "display_data"
    },
    {
     "data": {
      "application/vnd.jupyter.widget-view+json": {
       "model_id": "",
       "version_major": 2,
       "version_minor": 0
      },
      "text/plain": [
       "HBox(children=(HTML(value='Iteration'), FloatProgress(value=0.0, max=1000.0), HTML(value='')))"
      ]
     },
     "metadata": {},
     "output_type": "display_data"
    },
    {
     "data": {
      "application/vnd.jupyter.widget-view+json": {
       "model_id": "",
       "version_major": 2,
       "version_minor": 0
      },
      "text/plain": [
       "HBox(children=(HTML(value='Iteration'), FloatProgress(value=0.0, max=1000.0), HTML(value='')))"
      ]
     },
     "metadata": {},
     "output_type": "display_data"
    },
    {
     "name": "stdout",
     "output_type": "stream",
     "text": [
      "\n"
     ]
    }
   ],
   "source": [
    "med_m_devs = []\n",
    "med_b_devs = []\n",
    "re_med_ms = []\n",
    "re_med_bs = []\n",
    "\n",
    "prune_fact = 3.\n",
    "for i in tqdm_notebook(range(len(elems)-5),desc='Done?'):\n",
    "    \n",
    "    # clean up data and prune outliers\n",
    "    cln = np.where((lmc[elems[i]]>-100)&(lmc['SNR']>=100))\n",
    "    prune = np.where((lmc[elems[i]]>-prune_fact*util.mad(med_elems_dist[i])+\n",
    "                      np.median(lmc[cln][elems[i]]))&\n",
    "                     (lmc[elems[i]]<prune_fact*util.mad(med_elems_dist[i])+\n",
    "                      np.median(lmc[cln][elems[i]])))\n",
    "\n",
    "    exog = radius[prune]\n",
    "    endog = lmc[elems[i]][prune]\n",
    "    endog_err = lmc[elems_err[i]][prune]\n",
    "    \n",
    "    slps = []\n",
    "    ints = []\n",
    "    \n",
    "    # resample with replacement 100 times and fit lines\n",
    "    for j in tqdm_notebook(range(1000),leave=False,desc='Iteration'):\n",
    "        \n",
    "        ind = np.floor(np.random.random(len(endog))*(len(endog)-1)).astype(int)\n",
    "        indexog = exog[ind]\n",
    "        indendog = endog[ind]\n",
    "        indendog_err = endog_err[ind]\n",
    "        \n",
    "        # fit sampled data\n",
    "        try:\n",
    "            sample_slope, sample_inter = mle.mle_fit(indexog,indendog,indendog_err)\n",
    "            slps.append(sample_slope)\n",
    "            ints.append(sample_inter)\n",
    "        \n",
    "        except:\n",
    "            slps.append(-9999.0)\n",
    "            ints.append(-9999.0)\n",
    "        \n",
    "    med_m_devs.append(util.mad(slps))\n",
    "    med_b_devs.append(util.mad(ints))\n",
    "    \n",
    "    re_med_ms.append(np.median(slps))\n",
    "    re_med_bs.append(np.median(ints))"
   ]
  },
  {
   "cell_type": "code",
   "execution_count": 8,
   "metadata": {},
   "outputs": [
    {
     "name": "stdout",
     "output_type": "stream",
     "text": [
      "M_H: slope: -0.0263 +/- 0.0026 inter: -0.6030 +/- 0.0103\n",
      "C_FE: slope: -0.0175 +/- 0.0019 inter: -0.2751 +/- 0.0066\n",
      "N_FE: slope: -0.0096 +/- 0.0016 inter: 0.1177 +/- 0.0065\n",
      "O_FE: slope: 0.0002 +/- 0.0015 inter: 0.0340 +/- 0.0041\n",
      "NA_FE: slope: 0.0012 +/- 0.0036 inter: -0.1773 +/- 0.0128\n",
      "MG_FE: slope: 0.0025 +/- 0.0020 inter: 0.0974 +/- 0.0063\n",
      "AL_FE: slope: -0.0101 +/- 0.0016 inter: -0.3118 +/- 0.0060\n",
      "SI_FE: slope: 0.0041 +/- 0.0013 inter: -0.0059 +/- 0.0045\n",
      "P_FE: slope: 0.0243 +/- 0.0044 inter: 0.0350 +/- 0.0145\n",
      "S_FE: slope: 0.0092 +/- 0.0029 inter: 0.1512 +/- 0.0101\n",
      "K_FE: slope: 0.0115 +/- 0.0037 inter: -0.0366 +/- 0.0107\n",
      "CA_FE: slope: -0.0016 +/- 0.0006 inter: 0.1073 +/- 0.0016\n",
      "TI_FE: slope: 0.0010 +/- 0.0037 inter: -0.1118 +/- 0.0085\n",
      "TIII_FE: slope: 0.0289 +/- 0.0058 inter: -0.1790 +/- 0.0183\n",
      "V_FE: slope: -0.0037 +/- 0.0017 inter: -0.0913 +/- 0.0065\n",
      "CR_FE: slope: -0.0080 +/- 0.0016 inter: 0.0728 +/- 0.0049\n",
      "MN_FE: slope: -0.0158 +/- 0.0024 inter: -0.0343 +/- 0.0061\n",
      "FE_H: slope: -0.0222 +/- 0.0023 inter: -0.6095 +/- 0.0090\n",
      "CO_FE: slope: -0.0058 +/- 0.0019 inter: -0.1234 +/- 0.0056\n",
      "NI_FE: slope: -0.0010 +/- 0.0007 inter: -0.1276 +/- 0.0023\n",
      "CU_FE: slope: 0.0211 +/- 0.0053 inter: 0.0553 +/- 0.0164\n"
     ]
    }
   ],
   "source": [
    "for i in range(len(re_med_ms)):\n",
    "    print('{}: slope: {:.4f} +/- {:.4f} inter: {:.4f} +/- {:.4f}'.format(elems[i],re_med_ms[i],med_m_devs[i],\n",
    "                                                                         re_med_bs[i],med_b_devs[i]))"
   ]
  },
  {
   "cell_type": "code",
   "execution_count": 9,
   "metadata": {},
   "outputs": [],
   "source": [
    "#####################################\n",
    "### Overall Trend Plots with Data ###\n",
    "#####################################\n",
    "\n",
    "# matplotlib.rcParams.update({'font.size': 18})\n",
    "\n",
    "# ytops = [0,0.1,0.7,0.2,1.0,0.4,0,0.325,2.0,0.8,0.8,0.3,0,0,0.75,0.4,0,0.0,0.5,0.0,0,0,0,0,0,0]\n",
    "\n",
    "# for i in tqdm_notebook(range(len(elems)-5),desc='plots',leave=False):\n",
    "    \n",
    "#     cln = np.where(lmc[elems[i]]>-100)\n",
    "    \n",
    "#     xval = np.linspace(0.0,7.5)\n",
    "\n",
    "#     fig = plt.figure(figsize=[14,12])\n",
    "    \n",
    "#     ###Overall Trend\n",
    "#     def trendline(x):\n",
    "#         return re_med_ms[i]*x+re_med_bs[i]\n",
    "    \n",
    "#     plt.plot(xval,trendline(xval),c='k',lw=3.0)\n",
    "#     plt.scatter(np.asarray(radius)[cln],lmc[elems[i]][cln],marker='+',c='tab:blue')\n",
    "    \n",
    "#     handles,labels = plt.gca().get_legend_handles_labels()\n",
    "#     empty_over = mpatches.Patch(color='black',label='Overall Trend')\n",
    "#     handles.append(empty_over)\n",
    "\n",
    "#     labels.append('Overall Trend: {:>13.3f}$\\pm {:.3f} \\,dex/kpc$'.format(re_med_ms[i],med_m_devs[i]))\n",
    "    \n",
    "#     plt.legend(handles,labels,loc='upper right',fontsize='medium',frameon=False)\n",
    "\n",
    "#     plt.ylabel(r'{}'.format(labs[i]),fontsize=20)\n",
    "#     plt.xlabel(r'Galactic Circular Raidus $\\,(kpc$)')\n",
    "    \n",
    "#     plt.ylim(top = ytops[i])\n",
    "    \n",
    "    \n",
    "#     ax0 = fig.add_subplot(111)\n",
    "#     at0 = AnchoredText('{}'.format(labs[i]),prop=dict(size=30),frameon=False,loc='upper left')\n",
    "#     at0.patch.set_boxstyle(\"square\")\n",
    "#     ax0.add_artist(at0)\n",
    "    \n",
    "# #     plt.savefig('overallgradonly{}.pdf'.format(elems[i]),bbox_inches='tight')\n",
    "#     plt.show()"
   ]
  },
  {
   "cell_type": "code",
   "execution_count": 10,
   "metadata": {},
   "outputs": [
    {
     "data": {
      "image/png": "[encoded data removed]",
      "text/plain": [
       "<Figure size 1440x720 with 1 Axes>"
      ]
     },
     "metadata": {
      "needs_background": "light"
     },
     "output_type": "display_data"
    }
   ],
   "source": [
    "idx = [np.squeeze(np.where(np.asarray(elems)=='FE_H')),np.squeeze(np.where(np.asarray(elems)=='O_FE')),\n",
    "       np.squeeze(np.where(np.asarray(elems)=='MG_FE')),np.squeeze(np.where(np.asarray(elems)=='SI_FE')),\n",
    "       np.squeeze(np.where(np.asarray(elems)=='CA_FE')),np.squeeze(np.where(np.asarray(elems)=='NA_FE')),\n",
    "       np.squeeze(np.where(np.asarray(elems)=='AL_FE')),np.squeeze(np.where(np.asarray(elems)=='CR_FE')),\n",
    "       np.squeeze(np.where(np.asarray(elems)=='CO_FE')),np.squeeze(np.where(np.asarray(elems)=='NI_FE'))]\n",
    "\n",
    "good_over = []\n",
    "err_over = []\n",
    "\n",
    "good_med = []\n",
    "err_med = []\n",
    "\n",
    "for i in idx:\n",
    "    good_over.append(re_med_ms[i])\n",
    "    err_over.append(med_m_devs[i])\n",
    "    \n",
    "#     good_med.append(med_m[i])\n",
    "\n",
    "matplotlib.rcParams.update({'font.size': 16})\n",
    "fig = plt.figure(figsize=[20,10])\n",
    "\n",
    "plt.scatter([0,1,2,3,4,5,6,7,8,9],good_over,marker='x',c='black',label='Overall',s=100)\n",
    "plt.errorbar([0,1,2,3,4,5,6,7,8,9],good_over,yerr=err_over,c='black',ls='none')\n",
    "\n",
    "#plt.scatter([0,1,2,3,4,5,6,7,8,9],good_med,marker='x',c='red',label='0.5 kpc bins',s=100)\n",
    "\n",
    "xplotlab = ['[Fe/H]','[O/Fe]','[Mg/Fe]','[Si/Fe]','[Ca/Fe]','[Na/Fe]','[Al/Fe]','[Cr/Fe]','[Co/Fe]','[Ni/Fe]']\n",
    "xplotpos = [0,1,2,3,4,5,6,7,8,9] \n",
    "plt.xticks(xplotpos,xplotlab)\n",
    "\n",
    "plt.axvline(0.5,c='k',ls='--')\n",
    "plt.axvline(4.5,c='k',ls='--')\n",
    "plt.axvline(6.5,c='k',ls='--')\n",
    "plt.axhline(0.0,c='slategrey',ls='-')\n",
    "plt.ylabel('Abundance Gradient Value $\\,(dex/kpc)$',fontsize=30)\n",
    "\n",
    "# plt.gca().set_ylim(top=0.05)\n",
    "\n",
    "plt.text(-0.375,0.012,'Iron',fontsize=30)\n",
    "plt.text(2.25,0.012,'$\\\\alpha$ Elements',fontsize=30)\n",
    "plt.text(4.9,0.012,'Odd Z',fontsize=30)\n",
    "plt.text(7.25,0.012,'Iron Peak',fontsize=30)\n",
    "\n",
    "plt.title(r'LMC Gradient Summary',fontsize=30)\n",
    "\n",
    "# plt.legend(loc='lower center',frameon=True,fancybox=False,fontsize='large')\n",
    "# plt.savefig('mle_overall.pdf',bbox_inches='tight')\n",
    "plt.show()"
   ]
  },
  {
   "cell_type": "code",
   "execution_count": 11,
   "metadata": {},
   "outputs": [
    {
     "data": {
      "text/plain": [
       "ColDefs(\n",
       "    name = 'APOGEE_ID'; format = '18A'\n",
       "    name = 'AGE'; format = 'D'\n",
       "    name = 'AGE_ERR'; format = 'D'\n",
       "    name = 'DIST'; format = '750D'; dim = '(750)'\n",
       ")"
      ]
     },
     "execution_count": 11,
     "metadata": {},
     "output_type": "execute_result"
    }
   ],
   "source": [
    "ages = fits.getdata('/Users/joshuapovick/Desktop/Research/LMC_Ages/Polynomial_LMC_Ages/shepards_ages.fits')\n",
    "ages.columns"
   ]
  },
  {
   "cell_type": "code",
   "execution_count": 14,
   "metadata": {},
   "outputs": [],
   "source": [
    "#####################\n",
    "### Make AGE Bins ###\n",
    "#####################\n",
    "\n",
    "### mad\n",
    "young = np.where(ages['AGE']<=np.log10(0.5*10**9))\n",
    "yless = np.where((ages['AGE']>np.log10(0.5*10**9))&(ages['AGE']<=np.log10(2.0*10**9)))\n",
    "ymed = np.where((ages['AGE']>np.log10(2.0*10**9))&(ages['AGE']<=np.log10(7*10**9)))\n",
    "omed = np.where((ages['AGE']>np.log10(7*10**9))&(ages['AGE']<=np.log10(10.5*10**9)))\n",
    "old = np.where(ages['AGE']>np.log10(10.5*10**9))\n",
    "\n",
    "lmcyoung = lmc[young]\n",
    "lmcyless = lmc[yless]\n",
    "lmcymed = lmc[ymed]\n",
    "lmcomed = lmc[omed]\n",
    "lmcold = lmc[old]"
   ]
  },
  {
   "cell_type": "code",
   "execution_count": 19,
   "metadata": {},
   "outputs": [
    {
     "data": {
      "text/plain": [
       "3"
      ]
     },
     "execution_count": 19,
     "metadata": {},
     "output_type": "execute_result"
    }
   ],
   "source": [
    "len(np.squeeze(young))"
   ]
  },
  {
   "cell_type": "code",
   "execution_count": 15,
   "metadata": {},
   "outputs": [
    {
     "data": {
      "application/vnd.jupyter.widget-view+json": {
       "model_id": "3ed6d3974ca446588f93fc02b9f7ed53",
       "version_major": 2,
       "version_minor": 0
      },
      "text/plain": [
       "HBox(children=(HTML(value='Done?'), FloatProgress(value=0.0, max=21.0), HTML(value='')))"
      ]
     },
     "metadata": {},
     "output_type": "display_data"
    },
    {
     "name": "stdout",
     "output_type": "stream",
     "text": [
      "\n"
     ]
    },
    {
     "data": {
      "application/vnd.jupyter.widget-view+json": {
       "model_id": "39c249b2d7c64f05b1b6875554b9d34c",
       "version_major": 2,
       "version_minor": 0
      },
      "text/plain": [
       "HBox(children=(HTML(value='Done?'), FloatProgress(value=0.0, max=21.0), HTML(value='')))"
      ]
     },
     "metadata": {},
     "output_type": "display_data"
    },
    {
     "name": "stdout",
     "output_type": "stream",
     "text": [
      "\n"
     ]
    },
    {
     "data": {
      "application/vnd.jupyter.widget-view+json": {
       "model_id": "0e98e005bc5e4b5c9aa1172f98e6b41b",
       "version_major": 2,
       "version_minor": 0
      },
      "text/plain": [
       "HBox(children=(HTML(value='Done?'), FloatProgress(value=0.0, max=21.0), HTML(value='')))"
      ]
     },
     "metadata": {},
     "output_type": "display_data"
    },
    {
     "name": "stdout",
     "output_type": "stream",
     "text": [
      "\n"
     ]
    },
    {
     "data": {
      "application/vnd.jupyter.widget-view+json": {
       "model_id": "4bc9fd1b9d814b4fadc62377950dc460",
       "version_major": 2,
       "version_minor": 0
      },
      "text/plain": [
       "HBox(children=(HTML(value='Done?'), FloatProgress(value=0.0, max=21.0), HTML(value='')))"
      ]
     },
     "metadata": {},
     "output_type": "display_data"
    },
    {
     "name": "stdout",
     "output_type": "stream",
     "text": [
      "\n"
     ]
    },
    {
     "data": {
      "application/vnd.jupyter.widget-view+json": {
       "model_id": "b07d84689cce47ce88493b363949a4c7",
       "version_major": 2,
       "version_minor": 0
      },
      "text/plain": [
       "HBox(children=(HTML(value='Done?'), FloatProgress(value=0.0, max=21.0), HTML(value='')))"
      ]
     },
     "metadata": {},
     "output_type": "display_data"
    },
    {
     "name": "stdout",
     "output_type": "stream",
     "text": [
      "\n"
     ]
    }
   ],
   "source": [
    "##################################\n",
    "### Age bin initial Trendlines ###\n",
    "##################################\n",
    "\n",
    "### young\n",
    "\n",
    "young_ms = []\n",
    "young_bs = []\n",
    "\n",
    "lmcyoung = lmc[young]\n",
    "\n",
    "### Initial fit\n",
    "for i in tqdm_notebook(range(len(elems)-5),desc='Done?'):\n",
    "    \n",
    "    # clean up data\n",
    "    cln = np.where((lmcyoung[elems[i]]>-100))\n",
    "    \n",
    "    try:\n",
    "        # fit data\n",
    "        slope, inter = mle.mle_fit(radius[young][cln],lmcyoung[elems[i]][cln],lmcyoung[elems_err[i]][cln])\n",
    "        young_ms.append(slope)\n",
    "        young_bs.append(inter)\n",
    "        \n",
    "    except:\n",
    "        young_ms.append(-9999.0)\n",
    "        young_bs.append(-9999.0)\n",
    "    \n",
    "### yless\n",
    "\n",
    "yless_ms = []\n",
    "yless_bs = []\n",
    "\n",
    "lmcyless = lmc[yless]\n",
    "\n",
    "### Initial fit\n",
    "for i in tqdm_notebook(range(len(elems)-5),desc='Done?'):\n",
    "    \n",
    "    # clean up data\n",
    "    cln = np.where((lmcyless[elems[i]]>-100))\n",
    "    \n",
    "    try:\n",
    "        # fit data\n",
    "        slope, inter = mle.mle_fit(radius[yless][cln],lmcyless[elems[i]][cln],lmcyless[elems_err[i]][cln])\n",
    "        yless_ms.append(slope)\n",
    "        yless_bs.append(inter)\n",
    "        \n",
    "    except:\n",
    "        yless_ms.append(-9999.0)\n",
    "        yless_bs.append(-9999.0)\n",
    "    \n",
    "### ymed\n",
    "\n",
    "ymed_ms = []\n",
    "ymed_bs = []\n",
    "\n",
    "lmcymed = lmc[ymed]\n",
    "\n",
    "### Initial fit\n",
    "for i in tqdm_notebook(range(len(elems)-5),desc='Done?'):\n",
    "    \n",
    "    # clean up data\n",
    "    cln = np.where((lmcymed[elems[i]]>-100))\n",
    "    \n",
    "    try:\n",
    "        # fit data\n",
    "        slope, inter = mle.mle_fit(radius[ymed][cln],lmcymed[elems[i]][cln],lmcymed[elems_err[i]][cln])\n",
    "        ymed_ms.append(slope)\n",
    "        ymed_bs.append(inter)\n",
    "        \n",
    "    except:\n",
    "        ymed_ms.append(-9999.0)\n",
    "        ymed_bs.append(-9999.0)\n",
    "    \n",
    "### omed\n",
    "\n",
    "omed_ms = []\n",
    "omed_bs = []\n",
    "\n",
    "lmcomed = lmc[omed]\n",
    "\n",
    "### Initial fit\n",
    "for i in tqdm_notebook(range(len(elems)-5),desc='Done?'):\n",
    "    \n",
    "    # clean up data\n",
    "    cln = np.where((lmcomed[elems[i]]>-100))\n",
    "    \n",
    "    try:\n",
    "        # fit data\n",
    "        slope, inter = mle.mle_fit(radius[omed][cln],lmcomed[elems[i]][cln],lmcomed[elems_err[i]][cln])\n",
    "        omed_ms.append(slope)\n",
    "        omed_bs.append(inter)\n",
    "        \n",
    "    except:\n",
    "        omed_ms.append(-9999.0)\n",
    "        omed_bs.append(-9999.0)\n",
    "    \n",
    "### old\n",
    "\n",
    "old_ms = []\n",
    "old_bs = []\n",
    "\n",
    "lmcold = lmc[old]\n",
    "\n",
    "### Initial fit\n",
    "for i in tqdm_notebook(range(len(elems)-5),desc='Done?'):\n",
    "    \n",
    "    # clean up data\n",
    "    cln = np.where((lmcold[elems[i]]>-100))\n",
    "    \n",
    "    try:\n",
    "        # fit data\n",
    "        slope, inter = mle.mle_fit(radius[old][cln],lmcold[elems[i]][cln],lmcold[elems_err[i]][cln])\n",
    "        old_ms.append(slope)\n",
    "        old_bs.append(inter)\n",
    "        \n",
    "    except:\n",
    "        old_ms.append(-9999.0)\n",
    "        old_bs.append(-9999.0)"
   ]
  },
  {
   "cell_type": "code",
   "execution_count": 16,
   "metadata": {},
   "outputs": [
    {
     "data": {
      "application/vnd.jupyter.widget-view+json": {
       "model_id": "29eb17d7599241f6a00b9e49e0e11214",
       "version_major": 2,
       "version_minor": 0
      },
      "text/plain": [
       "HBox(children=(HTML(value='Done?'), FloatProgress(value=0.0, max=21.0), HTML(value='')))"
      ]
     },
     "metadata": {},
     "output_type": "display_data"
    },
    {
     "name": "stdout",
     "output_type": "stream",
     "text": [
      "\n"
     ]
    },
    {
     "data": {
      "application/vnd.jupyter.widget-view+json": {
       "model_id": "89d463acf73746238c8728c41fb1da56",
       "version_major": 2,
       "version_minor": 0
      },
      "text/plain": [
       "HBox(children=(HTML(value='Done?'), FloatProgress(value=0.0, max=21.0), HTML(value='')))"
      ]
     },
     "metadata": {},
     "output_type": "display_data"
    },
    {
     "name": "stdout",
     "output_type": "stream",
     "text": [
      "\n"
     ]
    },
    {
     "data": {
      "application/vnd.jupyter.widget-view+json": {
       "model_id": "9d030b52ed094afbb9649a17d5d102d8",
       "version_major": 2,
       "version_minor": 0
      },
      "text/plain": [
       "HBox(children=(HTML(value='Done?'), FloatProgress(value=0.0, max=21.0), HTML(value='')))"
      ]
     },
     "metadata": {},
     "output_type": "display_data"
    },
    {
     "name": "stdout",
     "output_type": "stream",
     "text": [
      "\n"
     ]
    },
    {
     "data": {
      "application/vnd.jupyter.widget-view+json": {
       "model_id": "e1adb476d058445cabed3e1f0793a730",
       "version_major": 2,
       "version_minor": 0
      },
      "text/plain": [
       "HBox(children=(HTML(value='Done?'), FloatProgress(value=0.0, max=21.0), HTML(value='')))"
      ]
     },
     "metadata": {},
     "output_type": "display_data"
    },
    {
     "name": "stdout",
     "output_type": "stream",
     "text": [
      "\n"
     ]
    },
    {
     "data": {
      "application/vnd.jupyter.widget-view+json": {
       "model_id": "22b88674db6e4ec48106fd0e34c6feee",
       "version_major": 2,
       "version_minor": 0
      },
      "text/plain": [
       "HBox(children=(HTML(value='Done?'), FloatProgress(value=0.0, max=21.0), HTML(value='')))"
      ]
     },
     "metadata": {},
     "output_type": "display_data"
    },
    {
     "name": "stdout",
     "output_type": "stream",
     "text": [
      "\n"
     ]
    }
   ],
   "source": [
    "############################################\n",
    "### Find distances between data and fits ###\n",
    "############################################\n",
    "\n",
    "young_dist = []\n",
    "for i in tqdm_notebook(range(len(elems)-5),desc='Done?'):\n",
    "    \n",
    "    def trendline(x):\n",
    "        return young_ms[i]*x+young_bs[i]\n",
    "    \n",
    "    cln = np.where((lmcyoung[elems[i]]>-100))\n",
    "    plug = trendline(radius[young][cln])\n",
    "    dist = plug-lmcyoung[elems[i]][cln]\n",
    "    \n",
    "    young_dist.append(dist) \n",
    "    \n",
    "yless_dist = []\n",
    "for i in tqdm_notebook(range(len(elems)-5),desc='Done?'):\n",
    "    \n",
    "    def trendline(x):\n",
    "        return yless_ms[i]*x+yless_bs[i]\n",
    "    \n",
    "    cln = np.where((lmcyless[elems[i]]>-100))\n",
    "    plug = trendline(radius[yless][cln])\n",
    "    dist = plug-lmcyless[elems[i]][cln]\n",
    "    \n",
    "    yless_dist.append(dist) \n",
    "    \n",
    "ymed_dist = []\n",
    "for i in tqdm_notebook(range(len(elems)-5),desc='Done?'):\n",
    "    \n",
    "    def trendline(x):\n",
    "        return ymed_ms[i]*x+ymed_bs[i]\n",
    "    \n",
    "    cln = np.where((lmcymed[elems[i]]>-100))\n",
    "    plug = trendline(radius[ymed][cln])\n",
    "    dist = plug-lmcymed[elems[i]][cln]\n",
    "    \n",
    "    ymed_dist.append(dist) \n",
    "    \n",
    "omed_dist = []\n",
    "for i in tqdm_notebook(range(len(elems)-5),desc='Done?'):\n",
    "    \n",
    "    def trendline(x):\n",
    "        return omed_ms[i]*x+omed_bs[i]\n",
    "    \n",
    "    cln = np.where((lmcomed[elems[i]]>-100))\n",
    "    plug = trendline(radius[omed][cln])\n",
    "    dist = plug-lmcomed[elems[i]][cln]\n",
    "    \n",
    "    omed_dist.append(dist) \n",
    "    \n",
    "old_dist = []\n",
    "for i in tqdm_notebook(range(len(elems)-5),desc='Done?'):\n",
    "    \n",
    "    def trendline(x):\n",
    "        return old_ms[i]*x+old_bs[i]\n",
    "    \n",
    "    cln = np.where((lmcold[elems[i]]>-100))\n",
    "    plug = trendline(radius[old][cln])\n",
    "    dist = plug-lmcold[elems[i]][cln]\n",
    "    \n",
    "    old_dist.append(dist)"
   ]
  },
  {
   "cell_type": "code",
   "execution_count": 17,
   "metadata": {},
   "outputs": [
    {
     "data": {
      "application/vnd.jupyter.widget-view+json": {
       "model_id": "b73dbabdd39b44d3a6f442d35d19d984",
       "version_major": 2,
       "version_minor": 0
      },
      "text/plain": [
       "HBox(children=(HTML(value='Done?'), FloatProgress(value=0.0, max=21.0), HTML(value='')))"
      ]
     },
     "metadata": {},
     "output_type": "display_data"
    },
    {
     "data": {
      "application/vnd.jupyter.widget-view+json": {
       "model_id": "",
       "version_major": 2,
       "version_minor": 0
      },
      "text/plain": [
       "HBox(children=(HTML(value='Iteration'), FloatProgress(value=0.0, max=1000.0), HTML(value='')))"
      ]
     },
     "metadata": {},
     "output_type": "display_data"
    },
    {
     "data": {
      "application/vnd.jupyter.widget-view+json": {
       "model_id": "",
       "version_major": 2,
       "version_minor": 0
      },
      "text/plain": [
       "HBox(children=(HTML(value='Iteration'), FloatProgress(value=0.0, max=1000.0), HTML(value='')))"
      ]
     },
     "metadata": {},
     "output_type": "display_data"
    },
    {
     "data": {
      "application/vnd.jupyter.widget-view+json": {
       "model_id": "",
       "version_major": 2,
       "version_minor": 0
      },
      "text/plain": [
       "HBox(children=(HTML(value='Iteration'), FloatProgress(value=0.0, max=1000.0), HTML(value='')))"
      ]
     },
     "metadata": {},
     "output_type": "display_data"
    },
    {
     "data": {
      "application/vnd.jupyter.widget-view+json": {
       "model_id": "",
       "version_major": 2,
       "version_minor": 0
      },
      "text/plain": [
       "HBox(children=(HTML(value='Iteration'), FloatProgress(value=0.0, max=1000.0), HTML(value='')))"
      ]
     },
     "metadata": {},
     "output_type": "display_data"
    },
    {
     "data": {
      "application/vnd.jupyter.widget-view+json": {
       "model_id": "",
       "version_major": 2,
       "version_minor": 0
      },
      "text/plain": [
       "HBox(children=(HTML(value='Iteration'), FloatProgress(value=0.0, max=1000.0), HTML(value='')))"
      ]
     },
     "metadata": {},
     "output_type": "display_data"
    },
    {
     "data": {
      "application/vnd.jupyter.widget-view+json": {
       "model_id": "",
       "version_major": 2,
       "version_minor": 0
      },
      "text/plain": [
       "HBox(children=(HTML(value='Iteration'), FloatProgress(value=0.0, max=1000.0), HTML(value='')))"
      ]
     },
     "metadata": {},
     "output_type": "display_data"
    },
    {
     "data": {
      "application/vnd.jupyter.widget-view+json": {
       "model_id": "",
       "version_major": 2,
       "version_minor": 0
      },
      "text/plain": [
       "HBox(children=(HTML(value='Iteration'), FloatProgress(value=0.0, max=1000.0), HTML(value='')))"
      ]
     },
     "metadata": {},
     "output_type": "display_data"
    },
    {
     "data": {
      "application/vnd.jupyter.widget-view+json": {
       "model_id": "",
       "version_major": 2,
       "version_minor": 0
      },
      "text/plain": [
       "HBox(children=(HTML(value='Iteration'), FloatProgress(value=0.0, max=1000.0), HTML(value='')))"
      ]
     },
     "metadata": {},
     "output_type": "display_data"
    },
    {
     "data": {
      "application/vnd.jupyter.widget-view+json": {
       "model_id": "",
       "version_major": 2,
       "version_minor": 0
      },
      "text/plain": [
       "HBox(children=(HTML(value='Iteration'), FloatProgress(value=0.0, max=1000.0), HTML(value='')))"
      ]
     },
     "metadata": {},
     "output_type": "display_data"
    },
    {
     "data": {
      "application/vnd.jupyter.widget-view+json": {
       "model_id": "",
       "version_major": 2,
       "version_minor": 0
      },
      "text/plain": [
       "HBox(children=(HTML(value='Iteration'), FloatProgress(value=0.0, max=1000.0), HTML(value='')))"
      ]
     },
     "metadata": {},
     "output_type": "display_data"
    },
    {
     "data": {
      "application/vnd.jupyter.widget-view+json": {
       "model_id": "",
       "version_major": 2,
       "version_minor": 0
      },
      "text/plain": [
       "HBox(children=(HTML(value='Iteration'), FloatProgress(value=0.0, max=1000.0), HTML(value='')))"
      ]
     },
     "metadata": {},
     "output_type": "display_data"
    },
    {
     "data": {
      "application/vnd.jupyter.widget-view+json": {
       "model_id": "",
       "version_major": 2,
       "version_minor": 0
      },
      "text/plain": [
       "HBox(children=(HTML(value='Iteration'), FloatProgress(value=0.0, max=1000.0), HTML(value='')))"
      ]
     },
     "metadata": {},
     "output_type": "display_data"
    },
    {
     "data": {
      "application/vnd.jupyter.widget-view+json": {
       "model_id": "",
       "version_major": 2,
       "version_minor": 0
      },
      "text/plain": [
       "HBox(children=(HTML(value='Iteration'), FloatProgress(value=0.0, max=1000.0), HTML(value='')))"
      ]
     },
     "metadata": {},
     "output_type": "display_data"
    },
    {
     "data": {
      "application/vnd.jupyter.widget-view+json": {
       "model_id": "",
       "version_major": 2,
       "version_minor": 0
      },
      "text/plain": [
       "HBox(children=(HTML(value='Iteration'), FloatProgress(value=0.0, max=1000.0), HTML(value='')))"
      ]
     },
     "metadata": {},
     "output_type": "display_data"
    },
    {
     "data": {
      "application/vnd.jupyter.widget-view+json": {
       "model_id": "",
       "version_major": 2,
       "version_minor": 0
      },
      "text/plain": [
       "HBox(children=(HTML(value='Iteration'), FloatProgress(value=0.0, max=1000.0), HTML(value='')))"
      ]
     },
     "metadata": {},
     "output_type": "display_data"
    },
    {
     "data": {
      "application/vnd.jupyter.widget-view+json": {
       "model_id": "",
       "version_major": 2,
       "version_minor": 0
      },
      "text/plain": [
       "HBox(children=(HTML(value='Iteration'), FloatProgress(value=0.0, max=1000.0), HTML(value='')))"
      ]
     },
     "metadata": {},
     "output_type": "display_data"
    },
    {
     "data": {
      "application/vnd.jupyter.widget-view+json": {
       "model_id": "",
       "version_major": 2,
       "version_minor": 0
      },
      "text/plain": [
       "HBox(children=(HTML(value='Iteration'), FloatProgress(value=0.0, max=1000.0), HTML(value='')))"
      ]
     },
     "metadata": {},
     "output_type": "display_data"
    },
    {
     "data": {
      "application/vnd.jupyter.widget-view+json": {
       "model_id": "",
       "version_major": 2,
       "version_minor": 0
      },
      "text/plain": [
       "HBox(children=(HTML(value='Iteration'), FloatProgress(value=0.0, max=1000.0), HTML(value='')))"
      ]
     },
     "metadata": {},
     "output_type": "display_data"
    },
    {
     "data": {
      "application/vnd.jupyter.widget-view+json": {
       "model_id": "",
       "version_major": 2,
       "version_minor": 0
      },
      "text/plain": [
       "HBox(children=(HTML(value='Iteration'), FloatProgress(value=0.0, max=1000.0), HTML(value='')))"
      ]
     },
     "metadata": {},
     "output_type": "display_data"
    },
    {
     "data": {
      "application/vnd.jupyter.widget-view+json": {
       "model_id": "",
       "version_major": 2,
       "version_minor": 0
      },
      "text/plain": [
       "HBox(children=(HTML(value='Iteration'), FloatProgress(value=0.0, max=1000.0), HTML(value='')))"
      ]
     },
     "metadata": {},
     "output_type": "display_data"
    },
    {
     "data": {
      "application/vnd.jupyter.widget-view+json": {
       "model_id": "",
       "version_major": 2,
       "version_minor": 0
      },
      "text/plain": [
       "HBox(children=(HTML(value='Iteration'), FloatProgress(value=0.0, max=1000.0), HTML(value='')))"
      ]
     },
     "metadata": {},
     "output_type": "display_data"
    },
    {
     "name": "stdout",
     "output_type": "stream",
     "text": [
      "\n"
     ]
    },
    {
     "data": {
      "application/vnd.jupyter.widget-view+json": {
       "model_id": "346edaa50d304123bc75e508466eaa06",
       "version_major": 2,
       "version_minor": 0
      },
      "text/plain": [
       "HBox(children=(HTML(value='Done?'), FloatProgress(value=0.0, max=21.0), HTML(value='')))"
      ]
     },
     "metadata": {},
     "output_type": "display_data"
    },
    {
     "data": {
      "application/vnd.jupyter.widget-view+json": {
       "model_id": "",
       "version_major": 2,
       "version_minor": 0
      },
      "text/plain": [
       "HBox(children=(HTML(value='Iteration'), FloatProgress(value=0.0, max=1000.0), HTML(value='')))"
      ]
     },
     "metadata": {},
     "output_type": "display_data"
    },
    {
     "data": {
      "application/vnd.jupyter.widget-view+json": {
       "model_id": "",
       "version_major": 2,
       "version_minor": 0
      },
      "text/plain": [
       "HBox(children=(HTML(value='Iteration'), FloatProgress(value=0.0, max=1000.0), HTML(value='')))"
      ]
     },
     "metadata": {},
     "output_type": "display_data"
    },
    {
     "data": {
      "application/vnd.jupyter.widget-view+json": {
       "model_id": "",
       "version_major": 2,
       "version_minor": 0
      },
      "text/plain": [
       "HBox(children=(HTML(value='Iteration'), FloatProgress(value=0.0, max=1000.0), HTML(value='')))"
      ]
     },
     "metadata": {},
     "output_type": "display_data"
    },
    {
     "data": {
      "application/vnd.jupyter.widget-view+json": {
       "model_id": "",
       "version_major": 2,
       "version_minor": 0
      },
      "text/plain": [
       "HBox(children=(HTML(value='Iteration'), FloatProgress(value=0.0, max=1000.0), HTML(value='')))"
      ]
     },
     "metadata": {},
     "output_type": "display_data"
    },
    {
     "data": {
      "application/vnd.jupyter.widget-view+json": {
       "model_id": "",
       "version_major": 2,
       "version_minor": 0
      },
      "text/plain": [
       "HBox(children=(HTML(value='Iteration'), FloatProgress(value=0.0, max=1000.0), HTML(value='')))"
      ]
     },
     "metadata": {},
     "output_type": "display_data"
    },
    {
     "data": {
      "application/vnd.jupyter.widget-view+json": {
       "model_id": "",
       "version_major": 2,
       "version_minor": 0
      },
      "text/plain": [
       "HBox(children=(HTML(value='Iteration'), FloatProgress(value=0.0, max=1000.0), HTML(value='')))"
      ]
     },
     "metadata": {},
     "output_type": "display_data"
    },
    {
     "data": {
      "application/vnd.jupyter.widget-view+json": {
       "model_id": "",
       "version_major": 2,
       "version_minor": 0
      },
      "text/plain": [
       "HBox(children=(HTML(value='Iteration'), FloatProgress(value=0.0, max=1000.0), HTML(value='')))"
      ]
     },
     "metadata": {},
     "output_type": "display_data"
    },
    {
     "data": {
      "application/vnd.jupyter.widget-view+json": {
       "model_id": "",
       "version_major": 2,
       "version_minor": 0
      },
      "text/plain": [
       "HBox(children=(HTML(value='Iteration'), FloatProgress(value=0.0, max=1000.0), HTML(value='')))"
      ]
     },
     "metadata": {},
     "output_type": "display_data"
    },
    {
     "data": {
      "application/vnd.jupyter.widget-view+json": {
       "model_id": "",
       "version_major": 2,
       "version_minor": 0
      },
      "text/plain": [
       "HBox(children=(HTML(value='Iteration'), FloatProgress(value=0.0, max=1000.0), HTML(value='')))"
      ]
     },
     "metadata": {},
     "output_type": "display_data"
    },
    {
     "data": {
      "application/vnd.jupyter.widget-view+json": {
       "model_id": "",
       "version_major": 2,
       "version_minor": 0
      },
      "text/plain": [
       "HBox(children=(HTML(value='Iteration'), FloatProgress(value=0.0, max=1000.0), HTML(value='')))"
      ]
     },
     "metadata": {},
     "output_type": "display_data"
    },
    {
     "data": {
      "application/vnd.jupyter.widget-view+json": {
       "model_id": "",
       "version_major": 2,
       "version_minor": 0
      },
      "text/plain": [
       "HBox(children=(HTML(value='Iteration'), FloatProgress(value=0.0, max=1000.0), HTML(value='')))"
      ]
     },
     "metadata": {},
     "output_type": "display_data"
    },
    {
     "data": {
      "application/vnd.jupyter.widget-view+json": {
       "model_id": "",
       "version_major": 2,
       "version_minor": 0
      },
      "text/plain": [
       "HBox(children=(HTML(value='Iteration'), FloatProgress(value=0.0, max=1000.0), HTML(value='')))"
      ]
     },
     "metadata": {},
     "output_type": "display_data"
    },
    {
     "data": {
      "application/vnd.jupyter.widget-view+json": {
       "model_id": "",
       "version_major": 2,
       "version_minor": 0
      },
      "text/plain": [
       "HBox(children=(HTML(value='Iteration'), FloatProgress(value=0.0, max=1000.0), HTML(value='')))"
      ]
     },
     "metadata": {},
     "output_type": "display_data"
    },
    {
     "data": {
      "application/vnd.jupyter.widget-view+json": {
       "model_id": "",
       "version_major": 2,
       "version_minor": 0
      },
      "text/plain": [
       "HBox(children=(HTML(value='Iteration'), FloatProgress(value=0.0, max=1000.0), HTML(value='')))"
      ]
     },
     "metadata": {},
     "output_type": "display_data"
    },
    {
     "data": {
      "application/vnd.jupyter.widget-view+json": {
       "model_id": "",
       "version_major": 2,
       "version_minor": 0
      },
      "text/plain": [
       "HBox(children=(HTML(value='Iteration'), FloatProgress(value=0.0, max=1000.0), HTML(value='')))"
      ]
     },
     "metadata": {},
     "output_type": "display_data"
    },
    {
     "data": {
      "application/vnd.jupyter.widget-view+json": {
       "model_id": "",
       "version_major": 2,
       "version_minor": 0
      },
      "text/plain": [
       "HBox(children=(HTML(value='Iteration'), FloatProgress(value=0.0, max=1000.0), HTML(value='')))"
      ]
     },
     "metadata": {},
     "output_type": "display_data"
    },
    {
     "data": {
      "application/vnd.jupyter.widget-view+json": {
       "model_id": "",
       "version_major": 2,
       "version_minor": 0
      },
      "text/plain": [
       "HBox(children=(HTML(value='Iteration'), FloatProgress(value=0.0, max=1000.0), HTML(value='')))"
      ]
     },
     "metadata": {},
     "output_type": "display_data"
    },
    {
     "data": {
      "application/vnd.jupyter.widget-view+json": {
       "model_id": "",
       "version_major": 2,
       "version_minor": 0
      },
      "text/plain": [
       "HBox(children=(HTML(value='Iteration'), FloatProgress(value=0.0, max=1000.0), HTML(value='')))"
      ]
     },
     "metadata": {},
     "output_type": "display_data"
    },
    {
     "data": {
      "application/vnd.jupyter.widget-view+json": {
       "model_id": "",
       "version_major": 2,
       "version_minor": 0
      },
      "text/plain": [
       "HBox(children=(HTML(value='Iteration'), FloatProgress(value=0.0, max=1000.0), HTML(value='')))"
      ]
     },
     "metadata": {},
     "output_type": "display_data"
    },
    {
     "data": {
      "application/vnd.jupyter.widget-view+json": {
       "model_id": "",
       "version_major": 2,
       "version_minor": 0
      },
      "text/plain": [
       "HBox(children=(HTML(value='Iteration'), FloatProgress(value=0.0, max=1000.0), HTML(value='')))"
      ]
     },
     "metadata": {},
     "output_type": "display_data"
    },
    {
     "data": {
      "application/vnd.jupyter.widget-view+json": {
       "model_id": "",
       "version_major": 2,
       "version_minor": 0
      },
      "text/plain": [
       "HBox(children=(HTML(value='Iteration'), FloatProgress(value=0.0, max=1000.0), HTML(value='')))"
      ]
     },
     "metadata": {},
     "output_type": "display_data"
    },
    {
     "name": "stdout",
     "output_type": "stream",
     "text": [
      "\n"
     ]
    },
    {
     "data": {
      "application/vnd.jupyter.widget-view+json": {
       "model_id": "a9f115b95d064b16bf4dc025cb58f12a",
       "version_major": 2,
       "version_minor": 0
      },
      "text/plain": [
       "HBox(children=(HTML(value='Done?'), FloatProgress(value=0.0, max=21.0), HTML(value='')))"
      ]
     },
     "metadata": {},
     "output_type": "display_data"
    },
    {
     "data": {
      "application/vnd.jupyter.widget-view+json": {
       "model_id": "",
       "version_major": 2,
       "version_minor": 0
      },
      "text/plain": [
       "HBox(children=(HTML(value='Iteration'), FloatProgress(value=0.0, max=1000.0), HTML(value='')))"
      ]
     },
     "metadata": {},
     "output_type": "display_data"
    },
    {
     "data": {
      "application/vnd.jupyter.widget-view+json": {
       "model_id": "",
       "version_major": 2,
       "version_minor": 0
      },
      "text/plain": [
       "HBox(children=(HTML(value='Iteration'), FloatProgress(value=0.0, max=1000.0), HTML(value='')))"
      ]
     },
     "metadata": {},
     "output_type": "display_data"
    },
    {
     "data": {
      "application/vnd.jupyter.widget-view+json": {
       "model_id": "",
       "version_major": 2,
       "version_minor": 0
      },
      "text/plain": [
       "HBox(children=(HTML(value='Iteration'), FloatProgress(value=0.0, max=1000.0), HTML(value='')))"
      ]
     },
     "metadata": {},
     "output_type": "display_data"
    },
    {
     "data": {
      "application/vnd.jupyter.widget-view+json": {
       "model_id": "",
       "version_major": 2,
       "version_minor": 0
      },
      "text/plain": [
       "HBox(children=(HTML(value='Iteration'), FloatProgress(value=0.0, max=1000.0), HTML(value='')))"
      ]
     },
     "metadata": {},
     "output_type": "display_data"
    },
    {
     "data": {
      "application/vnd.jupyter.widget-view+json": {
       "model_id": "",
       "version_major": 2,
       "version_minor": 0
      },
      "text/plain": [
       "HBox(children=(HTML(value='Iteration'), FloatProgress(value=0.0, max=1000.0), HTML(value='')))"
      ]
     },
     "metadata": {},
     "output_type": "display_data"
    },
    {
     "data": {
      "application/vnd.jupyter.widget-view+json": {
       "model_id": "",
       "version_major": 2,
       "version_minor": 0
      },
      "text/plain": [
       "HBox(children=(HTML(value='Iteration'), FloatProgress(value=0.0, max=1000.0), HTML(value='')))"
      ]
     },
     "metadata": {},
     "output_type": "display_data"
    },
    {
     "data": {
      "application/vnd.jupyter.widget-view+json": {
       "model_id": "",
       "version_major": 2,
       "version_minor": 0
      },
      "text/plain": [
       "HBox(children=(HTML(value='Iteration'), FloatProgress(value=0.0, max=1000.0), HTML(value='')))"
      ]
     },
     "metadata": {},
     "output_type": "display_data"
    },
    {
     "data": {
      "application/vnd.jupyter.widget-view+json": {
       "model_id": "",
       "version_major": 2,
       "version_minor": 0
      },
      "text/plain": [
       "HBox(children=(HTML(value='Iteration'), FloatProgress(value=0.0, max=1000.0), HTML(value='')))"
      ]
     },
     "metadata": {},
     "output_type": "display_data"
    },
    {
     "data": {
      "application/vnd.jupyter.widget-view+json": {
       "model_id": "",
       "version_major": 2,
       "version_minor": 0
      },
      "text/plain": [
       "HBox(children=(HTML(value='Iteration'), FloatProgress(value=0.0, max=1000.0), HTML(value='')))"
      ]
     },
     "metadata": {},
     "output_type": "display_data"
    },
    {
     "data": {
      "application/vnd.jupyter.widget-view+json": {
       "model_id": "",
       "version_major": 2,
       "version_minor": 0
      },
      "text/plain": [
       "HBox(children=(HTML(value='Iteration'), FloatProgress(value=0.0, max=1000.0), HTML(value='')))"
      ]
     },
     "metadata": {},
     "output_type": "display_data"
    },
    {
     "data": {
      "application/vnd.jupyter.widget-view+json": {
       "model_id": "",
       "version_major": 2,
       "version_minor": 0
      },
      "text/plain": [
       "HBox(children=(HTML(value='Iteration'), FloatProgress(value=0.0, max=1000.0), HTML(value='')))"
      ]
     },
     "metadata": {},
     "output_type": "display_data"
    },
    {
     "data": {
      "application/vnd.jupyter.widget-view+json": {
       "model_id": "",
       "version_major": 2,
       "version_minor": 0
      },
      "text/plain": [
       "HBox(children=(HTML(value='Iteration'), FloatProgress(value=0.0, max=1000.0), HTML(value='')))"
      ]
     },
     "metadata": {},
     "output_type": "display_data"
    },
    {
     "data": {
      "application/vnd.jupyter.widget-view+json": {
       "model_id": "",
       "version_major": 2,
       "version_minor": 0
      },
      "text/plain": [
       "HBox(children=(HTML(value='Iteration'), FloatProgress(value=0.0, max=1000.0), HTML(value='')))"
      ]
     },
     "metadata": {},
     "output_type": "display_data"
    },
    {
     "data": {
      "application/vnd.jupyter.widget-view+json": {
       "model_id": "",
       "version_major": 2,
       "version_minor": 0
      },
      "text/plain": [
       "HBox(children=(HTML(value='Iteration'), FloatProgress(value=0.0, max=1000.0), HTML(value='')))"
      ]
     },
     "metadata": {},
     "output_type": "display_data"
    },
    {
     "data": {
      "application/vnd.jupyter.widget-view+json": {
       "model_id": "",
       "version_major": 2,
       "version_minor": 0
      },
      "text/plain": [
       "HBox(children=(HTML(value='Iteration'), FloatProgress(value=0.0, max=1000.0), HTML(value='')))"
      ]
     },
     "metadata": {},
     "output_type": "display_data"
    },
    {
     "data": {
      "application/vnd.jupyter.widget-view+json": {
       "model_id": "",
       "version_major": 2,
       "version_minor": 0
      },
      "text/plain": [
       "HBox(children=(HTML(value='Iteration'), FloatProgress(value=0.0, max=1000.0), HTML(value='')))"
      ]
     },
     "metadata": {},
     "output_type": "display_data"
    },
    {
     "data": {
      "application/vnd.jupyter.widget-view+json": {
       "model_id": "",
       "version_major": 2,
       "version_minor": 0
      },
      "text/plain": [
       "HBox(children=(HTML(value='Iteration'), FloatProgress(value=0.0, max=1000.0), HTML(value='')))"
      ]
     },
     "metadata": {},
     "output_type": "display_data"
    },
    {
     "data": {
      "application/vnd.jupyter.widget-view+json": {
       "model_id": "",
       "version_major": 2,
       "version_minor": 0
      },
      "text/plain": [
       "HBox(children=(HTML(value='Iteration'), FloatProgress(value=0.0, max=1000.0), HTML(value='')))"
      ]
     },
     "metadata": {},
     "output_type": "display_data"
    },
    {
     "data": {
      "application/vnd.jupyter.widget-view+json": {
       "model_id": "",
       "version_major": 2,
       "version_minor": 0
      },
      "text/plain": [
       "HBox(children=(HTML(value='Iteration'), FloatProgress(value=0.0, max=1000.0), HTML(value='')))"
      ]
     },
     "metadata": {},
     "output_type": "display_data"
    },
    {
     "data": {
      "application/vnd.jupyter.widget-view+json": {
       "model_id": "",
       "version_major": 2,
       "version_minor": 0
      },
      "text/plain": [
       "HBox(children=(HTML(value='Iteration'), FloatProgress(value=0.0, max=1000.0), HTML(value='')))"
      ]
     },
     "metadata": {},
     "output_type": "display_data"
    },
    {
     "data": {
      "application/vnd.jupyter.widget-view+json": {
       "model_id": "",
       "version_major": 2,
       "version_minor": 0
      },
      "text/plain": [
       "HBox(children=(HTML(value='Iteration'), FloatProgress(value=0.0, max=1000.0), HTML(value='')))"
      ]
     },
     "metadata": {},
     "output_type": "display_data"
    },
    {
     "name": "stdout",
     "output_type": "stream",
     "text": [
      "\n"
     ]
    },
    {
     "data": {
      "application/vnd.jupyter.widget-view+json": {
       "model_id": "5e90d0f85e914c42a1bcde6e8a4b6e2d",
       "version_major": 2,
       "version_minor": 0
      },
      "text/plain": [
       "HBox(children=(HTML(value='Done?'), FloatProgress(value=0.0, max=21.0), HTML(value='')))"
      ]
     },
     "metadata": {},
     "output_type": "display_data"
    },
    {
     "data": {
      "application/vnd.jupyter.widget-view+json": {
       "model_id": "",
       "version_major": 2,
       "version_minor": 0
      },
      "text/plain": [
       "HBox(children=(HTML(value='Iteration'), FloatProgress(value=0.0, max=1000.0), HTML(value='')))"
      ]
     },
     "metadata": {},
     "output_type": "display_data"
    },
    {
     "data": {
      "application/vnd.jupyter.widget-view+json": {
       "model_id": "",
       "version_major": 2,
       "version_minor": 0
      },
      "text/plain": [
       "HBox(children=(HTML(value='Iteration'), FloatProgress(value=0.0, max=1000.0), HTML(value='')))"
      ]
     },
     "metadata": {},
     "output_type": "display_data"
    },
    {
     "data": {
      "application/vnd.jupyter.widget-view+json": {
       "model_id": "",
       "version_major": 2,
       "version_minor": 0
      },
      "text/plain": [
       "HBox(children=(HTML(value='Iteration'), FloatProgress(value=0.0, max=1000.0), HTML(value='')))"
      ]
     },
     "metadata": {},
     "output_type": "display_data"
    },
    {
     "data": {
      "application/vnd.jupyter.widget-view+json": {
       "model_id": "",
       "version_major": 2,
       "version_minor": 0
      },
      "text/plain": [
       "HBox(children=(HTML(value='Iteration'), FloatProgress(value=0.0, max=1000.0), HTML(value='')))"
      ]
     },
     "metadata": {},
     "output_type": "display_data"
    },
    {
     "data": {
      "application/vnd.jupyter.widget-view+json": {
       "model_id": "",
       "version_major": 2,
       "version_minor": 0
      },
      "text/plain": [
       "HBox(children=(HTML(value='Iteration'), FloatProgress(value=0.0, max=1000.0), HTML(value='')))"
      ]
     },
     "metadata": {},
     "output_type": "display_data"
    },
    {
     "data": {
      "application/vnd.jupyter.widget-view+json": {
       "model_id": "",
       "version_major": 2,
       "version_minor": 0
      },
      "text/plain": [
       "HBox(children=(HTML(value='Iteration'), FloatProgress(value=0.0, max=1000.0), HTML(value='')))"
      ]
     },
     "metadata": {},
     "output_type": "display_data"
    },
    {
     "data": {
      "application/vnd.jupyter.widget-view+json": {
       "model_id": "",
       "version_major": 2,
       "version_minor": 0
      },
      "text/plain": [
       "HBox(children=(HTML(value='Iteration'), FloatProgress(value=0.0, max=1000.0), HTML(value='')))"
      ]
     },
     "metadata": {},
     "output_type": "display_data"
    },
    {
     "data": {
      "application/vnd.jupyter.widget-view+json": {
       "model_id": "",
       "version_major": 2,
       "version_minor": 0
      },
      "text/plain": [
       "HBox(children=(HTML(value='Iteration'), FloatProgress(value=0.0, max=1000.0), HTML(value='')))"
      ]
     },
     "metadata": {},
     "output_type": "display_data"
    },
    {
     "data": {
      "application/vnd.jupyter.widget-view+json": {
       "model_id": "",
       "version_major": 2,
       "version_minor": 0
      },
      "text/plain": [
       "HBox(children=(HTML(value='Iteration'), FloatProgress(value=0.0, max=1000.0), HTML(value='')))"
      ]
     },
     "metadata": {},
     "output_type": "display_data"
    },
    {
     "data": {
      "application/vnd.jupyter.widget-view+json": {
       "model_id": "",
       "version_major": 2,
       "version_minor": 0
      },
      "text/plain": [
       "HBox(children=(HTML(value='Iteration'), FloatProgress(value=0.0, max=1000.0), HTML(value='')))"
      ]
     },
     "metadata": {},
     "output_type": "display_data"
    },
    {
     "data": {
      "application/vnd.jupyter.widget-view+json": {
       "model_id": "",
       "version_major": 2,
       "version_minor": 0
      },
      "text/plain": [
       "HBox(children=(HTML(value='Iteration'), FloatProgress(value=0.0, max=1000.0), HTML(value='')))"
      ]
     },
     "metadata": {},
     "output_type": "display_data"
    },
    {
     "data": {
      "application/vnd.jupyter.widget-view+json": {
       "model_id": "",
       "version_major": 2,
       "version_minor": 0
      },
      "text/plain": [
       "HBox(children=(HTML(value='Iteration'), FloatProgress(value=0.0, max=1000.0), HTML(value='')))"
      ]
     },
     "metadata": {},
     "output_type": "display_data"
    },
    {
     "data": {
      "application/vnd.jupyter.widget-view+json": {
       "model_id": "",
       "version_major": 2,
       "version_minor": 0
      },
      "text/plain": [
       "HBox(children=(HTML(value='Iteration'), FloatProgress(value=0.0, max=1000.0), HTML(value='')))"
      ]
     },
     "metadata": {},
     "output_type": "display_data"
    },
    {
     "data": {
      "application/vnd.jupyter.widget-view+json": {
       "model_id": "",
       "version_major": 2,
       "version_minor": 0
      },
      "text/plain": [
       "HBox(children=(HTML(value='Iteration'), FloatProgress(value=0.0, max=1000.0), HTML(value='')))"
      ]
     },
     "metadata": {},
     "output_type": "display_data"
    },
    {
     "data": {
      "application/vnd.jupyter.widget-view+json": {
       "model_id": "",
       "version_major": 2,
       "version_minor": 0
      },
      "text/plain": [
       "HBox(children=(HTML(value='Iteration'), FloatProgress(value=0.0, max=1000.0), HTML(value='')))"
      ]
     },
     "metadata": {},
     "output_type": "display_data"
    },
    {
     "data": {
      "application/vnd.jupyter.widget-view+json": {
       "model_id": "",
       "version_major": 2,
       "version_minor": 0
      },
      "text/plain": [
       "HBox(children=(HTML(value='Iteration'), FloatProgress(value=0.0, max=1000.0), HTML(value='')))"
      ]
     },
     "metadata": {},
     "output_type": "display_data"
    },
    {
     "data": {
      "application/vnd.jupyter.widget-view+json": {
       "model_id": "",
       "version_major": 2,
       "version_minor": 0
      },
      "text/plain": [
       "HBox(children=(HTML(value='Iteration'), FloatProgress(value=0.0, max=1000.0), HTML(value='')))"
      ]
     },
     "metadata": {},
     "output_type": "display_data"
    },
    {
     "data": {
      "application/vnd.jupyter.widget-view+json": {
       "model_id": "",
       "version_major": 2,
       "version_minor": 0
      },
      "text/plain": [
       "HBox(children=(HTML(value='Iteration'), FloatProgress(value=0.0, max=1000.0), HTML(value='')))"
      ]
     },
     "metadata": {},
     "output_type": "display_data"
    },
    {
     "data": {
      "application/vnd.jupyter.widget-view+json": {
       "model_id": "",
       "version_major": 2,
       "version_minor": 0
      },
      "text/plain": [
       "HBox(children=(HTML(value='Iteration'), FloatProgress(value=0.0, max=1000.0), HTML(value='')))"
      ]
     },
     "metadata": {},
     "output_type": "display_data"
    },
    {
     "data": {
      "application/vnd.jupyter.widget-view+json": {
       "model_id": "",
       "version_major": 2,
       "version_minor": 0
      },
      "text/plain": [
       "HBox(children=(HTML(value='Iteration'), FloatProgress(value=0.0, max=1000.0), HTML(value='')))"
      ]
     },
     "metadata": {},
     "output_type": "display_data"
    },
    {
     "data": {
      "application/vnd.jupyter.widget-view+json": {
       "model_id": "",
       "version_major": 2,
       "version_minor": 0
      },
      "text/plain": [
       "HBox(children=(HTML(value='Iteration'), FloatProgress(value=0.0, max=1000.0), HTML(value='')))"
      ]
     },
     "metadata": {},
     "output_type": "display_data"
    },
    {
     "name": "stdout",
     "output_type": "stream",
     "text": [
      "\n"
     ]
    },
    {
     "data": {
      "application/vnd.jupyter.widget-view+json": {
       "model_id": "5bd7185030cc48e7973fb6544f70bfdb",
       "version_major": 2,
       "version_minor": 0
      },
      "text/plain": [
       "HBox(children=(HTML(value='Done?'), FloatProgress(value=0.0, max=21.0), HTML(value='')))"
      ]
     },
     "metadata": {},
     "output_type": "display_data"
    },
    {
     "data": {
      "application/vnd.jupyter.widget-view+json": {
       "model_id": "",
       "version_major": 2,
       "version_minor": 0
      },
      "text/plain": [
       "HBox(children=(HTML(value='Iteration'), FloatProgress(value=0.0, max=1000.0), HTML(value='')))"
      ]
     },
     "metadata": {},
     "output_type": "display_data"
    },
    {
     "data": {
      "application/vnd.jupyter.widget-view+json": {
       "model_id": "",
       "version_major": 2,
       "version_minor": 0
      },
      "text/plain": [
       "HBox(children=(HTML(value='Iteration'), FloatProgress(value=0.0, max=1000.0), HTML(value='')))"
      ]
     },
     "metadata": {},
     "output_type": "display_data"
    },
    {
     "data": {
      "application/vnd.jupyter.widget-view+json": {
       "model_id": "",
       "version_major": 2,
       "version_minor": 0
      },
      "text/plain": [
       "HBox(children=(HTML(value='Iteration'), FloatProgress(value=0.0, max=1000.0), HTML(value='')))"
      ]
     },
     "metadata": {},
     "output_type": "display_data"
    },
    {
     "data": {
      "application/vnd.jupyter.widget-view+json": {
       "model_id": "",
       "version_major": 2,
       "version_minor": 0
      },
      "text/plain": [
       "HBox(children=(HTML(value='Iteration'), FloatProgress(value=0.0, max=1000.0), HTML(value='')))"
      ]
     },
     "metadata": {},
     "output_type": "display_data"
    },
    {
     "data": {
      "application/vnd.jupyter.widget-view+json": {
       "model_id": "",
       "version_major": 2,
       "version_minor": 0
      },
      "text/plain": [
       "HBox(children=(HTML(value='Iteration'), FloatProgress(value=0.0, max=1000.0), HTML(value='')))"
      ]
     },
     "metadata": {},
     "output_type": "display_data"
    },
    {
     "data": {
      "application/vnd.jupyter.widget-view+json": {
       "model_id": "",
       "version_major": 2,
       "version_minor": 0
      },
      "text/plain": [
       "HBox(children=(HTML(value='Iteration'), FloatProgress(value=0.0, max=1000.0), HTML(value='')))"
      ]
     },
     "metadata": {},
     "output_type": "display_data"
    },
    {
     "data": {
      "application/vnd.jupyter.widget-view+json": {
       "model_id": "",
       "version_major": 2,
       "version_minor": 0
      },
      "text/plain": [
       "HBox(children=(HTML(value='Iteration'), FloatProgress(value=0.0, max=1000.0), HTML(value='')))"
      ]
     },
     "metadata": {},
     "output_type": "display_data"
    },
    {
     "data": {
      "application/vnd.jupyter.widget-view+json": {
       "model_id": "",
       "version_major": 2,
       "version_minor": 0
      },
      "text/plain": [
       "HBox(children=(HTML(value='Iteration'), FloatProgress(value=0.0, max=1000.0), HTML(value='')))"
      ]
     },
     "metadata": {},
     "output_type": "display_data"
    },
    {
     "data": {
      "application/vnd.jupyter.widget-view+json": {
       "model_id": "",
       "version_major": 2,
       "version_minor": 0
      },
      "text/plain": [
       "HBox(children=(HTML(value='Iteration'), FloatProgress(value=0.0, max=1000.0), HTML(value='')))"
      ]
     },
     "metadata": {},
     "output_type": "display_data"
    },
    {
     "data": {
      "application/vnd.jupyter.widget-view+json": {
       "model_id": "",
       "version_major": 2,
       "version_minor": 0
      },
      "text/plain": [
       "HBox(children=(HTML(value='Iteration'), FloatProgress(value=0.0, max=1000.0), HTML(value='')))"
      ]
     },
     "metadata": {},
     "output_type": "display_data"
    },
    {
     "data": {
      "application/vnd.jupyter.widget-view+json": {
       "model_id": "",
       "version_major": 2,
       "version_minor": 0
      },
      "text/plain": [
       "HBox(children=(HTML(value='Iteration'), FloatProgress(value=0.0, max=1000.0), HTML(value='')))"
      ]
     },
     "metadata": {},
     "output_type": "display_data"
    },
    {
     "data": {
      "application/vnd.jupyter.widget-view+json": {
       "model_id": "",
       "version_major": 2,
       "version_minor": 0
      },
      "text/plain": [
       "HBox(children=(HTML(value='Iteration'), FloatProgress(value=0.0, max=1000.0), HTML(value='')))"
      ]
     },
     "metadata": {},
     "output_type": "display_data"
    },
    {
     "data": {
      "application/vnd.jupyter.widget-view+json": {
       "model_id": "",
       "version_major": 2,
       "version_minor": 0
      },
      "text/plain": [
       "HBox(children=(HTML(value='Iteration'), FloatProgress(value=0.0, max=1000.0), HTML(value='')))"
      ]
     },
     "metadata": {},
     "output_type": "display_data"
    },
    {
     "data": {
      "application/vnd.jupyter.widget-view+json": {
       "model_id": "",
       "version_major": 2,
       "version_minor": 0
      },
      "text/plain": [
       "HBox(children=(HTML(value='Iteration'), FloatProgress(value=0.0, max=1000.0), HTML(value='')))"
      ]
     },
     "metadata": {},
     "output_type": "display_data"
    },
    {
     "data": {
      "application/vnd.jupyter.widget-view+json": {
       "model_id": "",
       "version_major": 2,
       "version_minor": 0
      },
      "text/plain": [
       "HBox(children=(HTML(value='Iteration'), FloatProgress(value=0.0, max=1000.0), HTML(value='')))"
      ]
     },
     "metadata": {},
     "output_type": "display_data"
    },
    {
     "data": {
      "application/vnd.jupyter.widget-view+json": {
       "model_id": "",
       "version_major": 2,
       "version_minor": 0
      },
      "text/plain": [
       "HBox(children=(HTML(value='Iteration'), FloatProgress(value=0.0, max=1000.0), HTML(value='')))"
      ]
     },
     "metadata": {},
     "output_type": "display_data"
    },
    {
     "data": {
      "application/vnd.jupyter.widget-view+json": {
       "model_id": "",
       "version_major": 2,
       "version_minor": 0
      },
      "text/plain": [
       "HBox(children=(HTML(value='Iteration'), FloatProgress(value=0.0, max=1000.0), HTML(value='')))"
      ]
     },
     "metadata": {},
     "output_type": "display_data"
    },
    {
     "data": {
      "application/vnd.jupyter.widget-view+json": {
       "model_id": "",
       "version_major": 2,
       "version_minor": 0
      },
      "text/plain": [
       "HBox(children=(HTML(value='Iteration'), FloatProgress(value=0.0, max=1000.0), HTML(value='')))"
      ]
     },
     "metadata": {},
     "output_type": "display_data"
    },
    {
     "data": {
      "application/vnd.jupyter.widget-view+json": {
       "model_id": "",
       "version_major": 2,
       "version_minor": 0
      },
      "text/plain": [
       "HBox(children=(HTML(value='Iteration'), FloatProgress(value=0.0, max=1000.0), HTML(value='')))"
      ]
     },
     "metadata": {},
     "output_type": "display_data"
    },
    {
     "data": {
      "application/vnd.jupyter.widget-view+json": {
       "model_id": "",
       "version_major": 2,
       "version_minor": 0
      },
      "text/plain": [
       "HBox(children=(HTML(value='Iteration'), FloatProgress(value=0.0, max=1000.0), HTML(value='')))"
      ]
     },
     "metadata": {},
     "output_type": "display_data"
    },
    {
     "data": {
      "application/vnd.jupyter.widget-view+json": {
       "model_id": "",
       "version_major": 2,
       "version_minor": 0
      },
      "text/plain": [
       "HBox(children=(HTML(value='Iteration'), FloatProgress(value=0.0, max=1000.0), HTML(value='')))"
      ]
     },
     "metadata": {},
     "output_type": "display_data"
    },
    {
     "name": "stdout",
     "output_type": "stream",
     "text": [
      "\n"
     ]
    }
   ],
   "source": [
    "###################\n",
    "### Prune Refit ###\n",
    "###################\n",
    "\n",
    "prune_fact = 3.0\n",
    "\n",
    "re_young_ms = []\n",
    "re_young_bs = []\n",
    "young_m_devs = []\n",
    "young_b_devs = []\n",
    "\n",
    "for i in tqdm_notebook(range(len(elems)-5),desc='Done?'):\n",
    "    \n",
    "    # clean up data and prune outliers\n",
    "    cln = np.where((lmcyoung[elems[i]]>-100))\n",
    "    prune = np.where((lmcyoung[elems[i]]>-prune_fact*util.mad(young_dist[i])+\n",
    "                      np.median(lmcyoung[cln][elems[i]]))&\n",
    "                     (lmcyoung[elems[i]]<prune_fact*util.mad(young_dist[i])+\n",
    "                      np.median(lmcyoung[cln][elems[i]])))\n",
    "\n",
    "    exog = radius[young][prune]\n",
    "    endog = lmcyoung[elems[i]][prune]\n",
    "    endog_err = lmcyoung[elems_err[i]][prune]\n",
    "    \n",
    "    slps = []\n",
    "    ints = []\n",
    "    \n",
    "    # resample with replacement 100 times and fit lines\n",
    "    for j in tqdm_notebook(range(1000),leave=False,desc='Iteration'):\n",
    "        \n",
    "        ind = np.floor(np.random.random(len(endog))*(len(endog)-1)).astype(int)\n",
    "        indexog = exog[ind]\n",
    "        indendog = endog[ind]\n",
    "        indendog_err = endog_err[ind]\n",
    "        \n",
    "        # fit sampled data\n",
    "        try:\n",
    "            sample_slope, sample_inter = mle.mle_fit(indexog,indendog,indendog_err)\n",
    "            slps.append(sample_slope)\n",
    "            ints.append(sample_inter)\n",
    "        \n",
    "        except:\n",
    "            slps.append(-9999.0)\n",
    "            ints.append(-9999.0)\n",
    "        \n",
    "    young_m_devs.append(util.mad(slps))\n",
    "    young_b_devs.append(util.mad(ints))\n",
    "    re_young_ms.append(np.median(slps))\n",
    "    re_young_bs.append(np.median(ints))\n",
    "\n",
    "re_yless_ms = []\n",
    "re_yless_bs = []\n",
    "yless_m_devs = []\n",
    "yless_b_devs = []\n",
    "\n",
    "for i in tqdm_notebook(range(len(elems)-5),desc='Done?'):\n",
    "    \n",
    "    # clean up data and prune outliers\n",
    "    cln = np.where((lmcyless[elems[i]]>-100))\n",
    "    prune = np.where((lmcyless[elems[i]]>-prune_fact*util.mad(yless_dist[i])+\n",
    "                      np.median(lmcyless[cln][elems[i]]))&\n",
    "                     (lmcyless[elems[i]]<prune_fact*util.mad(yless_dist[i])+\n",
    "                      np.median(lmcyless[cln][elems[i]])))\n",
    "\n",
    "    exog = radius[yless][prune]\n",
    "    endog = lmcyless[elems[i]][prune]\n",
    "    endog_err = lmcyless[elems_err[i]][prune]\n",
    "    \n",
    "    slps = []\n",
    "    ints = []\n",
    "    \n",
    "    # resample with replacement 100 times and fit lines\n",
    "    for j in tqdm_notebook(range(1000),leave=False,desc='Iteration'):\n",
    "        \n",
    "        ind = np.floor(np.random.random(len(endog))*(len(endog)-1)).astype(int)\n",
    "        indexog = exog[ind]\n",
    "        indendog = endog[ind]\n",
    "        indendog_err = endog_err[ind]\n",
    "        \n",
    "        # fit sampled data\n",
    "        try:\n",
    "            sample_slope, sample_inter = mle.mle_fit(indexog,indendog,indendog_err)\n",
    "            slps.append(sample_slope)\n",
    "            ints.append(sample_inter)\n",
    "        \n",
    "        except:\n",
    "            slps.append(-9999.0)\n",
    "            ints.append(-9999.0)\n",
    "        \n",
    "    yless_m_devs.append(util.mad(slps))\n",
    "    yless_b_devs.append(util.mad(ints))\n",
    "    re_yless_ms.append(np.median(slps))\n",
    "    re_yless_bs.append(np.median(ints))\n",
    "\n",
    "re_ymed_ms = []\n",
    "re_ymed_bs = []\n",
    "ymed_m_devs = []\n",
    "ymed_b_devs = []\n",
    "\n",
    "for i in tqdm_notebook(range(len(elems)-5),desc='Done?'):\n",
    "    \n",
    "    # clean up data and prune outliers\n",
    "    cln = np.where((lmcymed[elems[i]]>-100))\n",
    "    prune = np.where((lmcymed[elems[i]]>-prune_fact*util.mad(ymed_dist[i])+\n",
    "                      np.median(lmcymed[cln][elems[i]]))&\n",
    "                     (lmcymed[elems[i]]<prune_fact*util.mad(ymed_dist[i])+\n",
    "                      np.median(lmcymed[cln][elems[i]])))\n",
    "\n",
    "    exog = radius[ymed][prune]\n",
    "    endog = lmcymed[elems[i]][prune]\n",
    "    endog_err = lmcymed[elems_err[i]][prune]\n",
    "    \n",
    "    slps = []\n",
    "    ints = []\n",
    "    \n",
    "    # resample with replacement 100 times and fit lines\n",
    "    for j in tqdm_notebook(range(1000),leave=False,desc='Iteration'):\n",
    "        \n",
    "        ind = np.floor(np.random.random(len(endog))*(len(endog)-1)).astype(int)\n",
    "        indexog = exog[ind]\n",
    "        indendog = endog[ind]\n",
    "        indendog_err = endog_err[ind]\n",
    "        \n",
    "        # fit sampled data\n",
    "        try:\n",
    "            sample_slope, sample_inter = mle.mle_fit(indexog,indendog,indendog_err)\n",
    "            slps.append(sample_slope)\n",
    "            ints.append(sample_inter)\n",
    "        \n",
    "        except:\n",
    "            slps.append(-9999.0)\n",
    "            ints.append(-9999.0)\n",
    "        \n",
    "    ymed_m_devs.append(util.mad(slps))\n",
    "    ymed_b_devs.append(util.mad(ints))\n",
    "    re_ymed_ms.append(np.median(slps))\n",
    "    re_ymed_bs.append(np.median(ints))\n",
    "\n",
    "re_omed_ms = []\n",
    "re_omed_bs = []\n",
    "omed_m_devs = []\n",
    "omed_b_devs = []\n",
    "\n",
    "for i in tqdm_notebook(range(len(elems)-5),desc='Done?'):\n",
    "    \n",
    "    # clean up data and prune outliers\n",
    "    cln = np.where((lmcomed[elems[i]]>-100))\n",
    "    prune = np.where((lmcomed[elems[i]]>-prune_fact*util.mad(omed_dist[i])+\n",
    "                      np.median(lmcomed[cln][elems[i]]))&\n",
    "                     (lmcomed[elems[i]]<prune_fact*util.mad(omed_dist[i])+\n",
    "                      np.median(lmcomed[cln][elems[i]])))\n",
    "\n",
    "    exog = radius[omed][prune]\n",
    "    endog = lmcomed[elems[i]][prune]\n",
    "    endog_err = lmcomed[elems_err[i]][prune]\n",
    "    \n",
    "    slps = []\n",
    "    ints = []\n",
    "    \n",
    "    # resample with replacement 100 times and fit lines\n",
    "    for j in tqdm_notebook(range(1000),leave=False,desc='Iteration'):\n",
    "        \n",
    "        ind = np.floor(np.random.random(len(endog))*(len(endog)-1)).astype(int)\n",
    "        indexog = exog[ind]\n",
    "        indendog = endog[ind]\n",
    "        indendog_err = endog_err[ind]\n",
    "        \n",
    "        # fit sampled data\n",
    "        try:\n",
    "            sample_slope, sample_inter = mle.mle_fit(indexog,indendog,indendog_err)\n",
    "            slps.append(sample_slope)\n",
    "            ints.append(sample_inter)\n",
    "        \n",
    "        except:\n",
    "            slps.append(-9999.0)\n",
    "            ints.append(-9999.0)\n",
    "        \n",
    "    omed_m_devs.append(util.mad(slps))\n",
    "    omed_b_devs.append(util.mad(ints))\n",
    "    re_omed_ms.append(np.median(slps))\n",
    "    re_omed_bs.append(np.median(ints))\n",
    "    \n",
    "re_old_ms = []\n",
    "re_old_bs = []\n",
    "old_m_devs = []\n",
    "old_b_devs = []\n",
    "\n",
    "for i in tqdm_notebook(range(len(elems)-5),desc='Done?'):\n",
    "    \n",
    "    # clean up data and prune outliers\n",
    "    cln = np.where((lmcold[elems[i]]>-100))\n",
    "    prune = np.where((lmcold[elems[i]]>-prune_fact*util.mad(old_dist[i])+\n",
    "                      np.median(lmcold[cln][elems[i]]))&\n",
    "                     (lmcold[elems[i]]<prune_fact*util.mad(old_dist[i])+\n",
    "                      np.median(lmcold[cln][elems[i]])))\n",
    "\n",
    "    exog = radius[old][prune]\n",
    "    endog = lmcold[elems[i]][prune]\n",
    "    endog_err = lmcold[elems_err[i]][prune]\n",
    "    \n",
    "    slps = []\n",
    "    ints = []\n",
    "    \n",
    "    # resample with replacement 100 times and fit lines\n",
    "    for j in tqdm_notebook(range(1000),leave=False,desc='Iteration'):\n",
    "        \n",
    "        ind = np.floor(np.random.random(len(endog))*(len(endog)-1)).astype(int)\n",
    "        indexog = exog[ind]\n",
    "        indendog = endog[ind]\n",
    "        indendog_err = endog_err[ind]\n",
    "        \n",
    "        # fit sampled data\n",
    "        try:\n",
    "            sample_slope, sample_inter = mle.mle_fit(indexog,indendog,indendog_err)\n",
    "            slps.append(sample_slope)\n",
    "            ints.append(sample_inter)\n",
    "        \n",
    "        except:\n",
    "            slps.append(-9999.0)\n",
    "            ints.append(-9999.0)\n",
    "        \n",
    "    old_m_devs.append(util.mad(slps))\n",
    "    old_b_devs.append(util.mad(ints))\n",
    "    re_old_ms.append(np.median(slps))\n",
    "    re_old_bs.append(np.median(ints))"
   ]
  },
  {
   "cell_type": "code",
   "execution_count": 18,
   "metadata": {},
   "outputs": [
    {
     "data": {
      "image/png": "[encoded data removed]",
      "text/plain": [
       "<Figure size 1440x720 with 1 Axes>"
      ]
     },
     "metadata": {
      "needs_background": "light"
     },
     "output_type": "display_data"
    }
   ],
   "source": [
    "####################\n",
    "### Summary plot ###\n",
    "####################\n",
    "\n",
    "# elements: O, Na, Mg, Al, Si, Ca, Cr, Fe, Co, Ni, V\n",
    "\n",
    "idx = [np.squeeze(np.where(np.asarray(elems)=='FE_H')),np.squeeze(np.where(np.asarray(elems)=='O_FE')),\n",
    "       np.squeeze(np.where(np.asarray(elems)=='MG_FE')),np.squeeze(np.where(np.asarray(elems)=='SI_FE')),\n",
    "       np.squeeze(np.where(np.asarray(elems)=='CA_FE')),np.squeeze(np.where(np.asarray(elems)=='NA_FE')),\n",
    "       np.squeeze(np.where(np.asarray(elems)=='AL_FE')),np.squeeze(np.where(np.asarray(elems)=='CR_FE')),\n",
    "       np.squeeze(np.where(np.asarray(elems)=='CO_FE')),np.squeeze(np.where(np.asarray(elems)=='NI_FE'))]#,\n",
    "       #np.squeeze(np.where(np.asarray(elems)=='V_FE'))]\n",
    "\n",
    "good_young = []\n",
    "good_yless = []\n",
    "good_ymed = []\n",
    "good_omed = []\n",
    "good_old = []\n",
    "good_over = []\n",
    "\n",
    "err_young = []\n",
    "err_yless = []\n",
    "err_ymed = []\n",
    "err_omed = []\n",
    "err_old = []\n",
    "err_over = []\n",
    "\n",
    "for i in idx:\n",
    "    good_young.append(re_young_ms[i])\n",
    "    good_yless.append(re_yless_ms[i])\n",
    "    good_ymed.append(re_ymed_ms[i])\n",
    "    good_omed.append(re_omed_ms[i])\n",
    "    good_old.append(re_old_ms[i])\n",
    "    good_over.append(re_med_ms[i])\n",
    "    \n",
    "    err_young.append(young_m_devs[i])\n",
    "    err_yless.append(yless_m_devs[i])\n",
    "    err_ymed.append(ymed_m_devs[i])\n",
    "    err_omed.append(omed_m_devs[i])\n",
    "    err_old.append(old_m_devs[i])\n",
    "    err_over.append(med_m_devs[i])\n",
    "\n",
    "matplotlib.rcParams.update({'font.size': 20})\n",
    "fig = plt.figure(figsize=[20,10])\n",
    "\n",
    "plt.scatter(np.add(np.arange(10),0.25),good_young,c='purple',label='$0.0 < \\\\tau \\leq 0.5$ Gyr',s=50)\n",
    "plt.errorbar(np.add(np.arange(10),0.25),good_young,yerr=err_young,c='purple',ls='none')\n",
    "\n",
    "plt.scatter(np.add(np.arange(10),0.125),good_yless,c='blue',label='$0.5 < \\\\tau \\leq 2.0$ Gyr',s=50)\n",
    "plt.errorbar(np.add(np.arange(10),0.125),good_yless,yerr=err_yless,c='blue',ls='none')\n",
    "\n",
    "plt.scatter([0,1,2,3,4,5,6,7,8,9],good_ymed,c='green',label='$2.0 < \\\\tau \\leq 7.0$ Gyr',s=50)\n",
    "plt.errorbar([0,1,2,3,4,5,6,7,8,9],good_ymed,yerr=err_ymed,c='green',ls='none')\n",
    "\n",
    "plt.scatter(np.subtract(np.arange(10),0.125),good_omed,c='orange',label='$7.0 < \\\\tau \\leq 10.5$ Gyr',s=50)\n",
    "plt.errorbar(np.subtract(np.arange(10),0.125),good_omed,yerr=err_omed,c='orange',ls='none')\n",
    "\n",
    "plt.scatter(np.subtract(np.arange(10),0.25),good_old,c='red',label='$10.5 < \\\\tau $ Gyr',s=50)\n",
    "plt.errorbar(np.subtract(np.arange(10),0.25),good_old,yerr=err_old,c='red',ls='none')\n",
    "\n",
    "plt.scatter([0,1,2,3,4,5,6,7,8,9],good_over,marker='*',c='black',label='Overall',s=200)\n",
    "plt.errorbar([0,1,2,3,4,5,6,7,8,9],good_over,yerr=err_over,c='black',ls='none')\n",
    "\n",
    "xplotlab = ['[Fe/H]','[O/Fe]','[Mg/Fe]','[Si/Fe]','[Ca/Fe]','[Na/Fe]','[Al/Fe]','[Cr/Fe]','[Co/Fe]',\n",
    "            '[Ni/Fe]']#,'[V/Fe]']\n",
    "\n",
    "xplotpos = [0,1,2,3,4,5,6,7,8,9]#,10] \n",
    "plt.xticks(xplotpos,xplotlab)\n",
    "\n",
    "plt.axvline(0.5,c='k',ls='--')\n",
    "plt.axvline(4.5,c='k',ls='--')\n",
    "plt.axvline(6.5,c='k',ls='--')\n",
    "plt.axhline(0.0,c='slategrey',ls='-')\n",
    "plt.ylabel('Abundance Gradient Value $\\,(dex/kpc)$',fontsize=30)\n",
    "\n",
    "# plt.gca().set_ylim(top=0.05)\n",
    "\n",
    "plt.text(-0.375,0.0435,'Iron',fontsize=30)\n",
    "plt.text(1.75,0.0435,'$\\\\alpha$ Elements',fontsize=30)\n",
    "plt.text(5.0,0.0435,'Odd Z',fontsize=30)\n",
    "plt.text(7.4,0.0435,'Iron Peak',fontsize=30)\n",
    "\n",
    "plt.title(r'mad')\n",
    "\n",
    "# plt.ylim(bottom=-0.045)\n",
    "plt.ylim(-0.05,0.05)\n",
    "\n",
    "plt.legend(loc=(0.205,0.01),frameon=True,fancybox=False,fontsize='large')\n",
    "plt.tight_layout()\n",
    "# plt.savefig('gradientSummaryplot.png',bbox_inches='tight')\n",
    "plt.show()"
   ]
  },
  {
   "cell_type": "code",
   "execution_count": null,
   "metadata": {},
   "outputs": [],
   "source": []
  }
 ],
 "metadata": {
  "kernelspec": {
   "display_name": "Python 3",
   "language": "python",
   "name": "python3"
  },
  "language_info": {
   "codemirror_mode": {
    "name": "ipython",
    "version": 3
   },
   "file_extension": ".py",
   "mimetype": "text/x-python",
   "name": "python",
   "nbconvert_exporter": "python",
   "pygments_lexer": "ipython3",
   "version": "3.8.5"
  }
 },
 "nbformat": 4,
 "nbformat_minor": 4
}
